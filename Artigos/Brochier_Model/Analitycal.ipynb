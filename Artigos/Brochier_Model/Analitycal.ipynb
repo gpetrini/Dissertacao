{
 "cells": [
  {
   "cell_type": "markdown",
   "metadata": {},
   "source": [
    "# Loading packages"
   ]
  },
  {
   "cell_type": "code",
   "execution_count": 1,
   "metadata": {
    "ExecuteTime": {
     "end_time": "2019-10-15T13:13:14.304078Z",
     "start_time": "2019-10-15T13:13:10.948085Z"
    }
   },
   "outputs": [],
   "source": [
    "import pandas as pd\n",
    "import numpy as np\n",
    "import matplotlib.pyplot as plt\n",
    "import seaborn as sns\n",
    "\n",
    "from pysolve3.model import Model\n",
    "from pysolve3.utils import ShockModel, SolveSFC\n",
    "\n",
    "import sympy as sp\n",
    "from sympy import pprint, solve, solveset, Eq, Symbol, symbols, Function"
   ]
  },
  {
   "cell_type": "markdown",
   "metadata": {},
   "source": [
    "Creating model function"
   ]
  },
  {
   "cell_type": "code",
   "execution_count": 2,
   "metadata": {
    "ExecuteTime": {
     "end_time": "2019-10-15T13:13:28.065185Z",
     "start_time": "2019-10-15T13:13:27.510080Z"
    }
   },
   "outputs": [
    {
     "name": "stdout",
     "output_type": "stream",
     "text": [
      "Evaluating consistenty at time = 100\n"
     ]
    },
    {
     "data": {
      "text/html": [
       "<div>\n",
       "<style scoped>\n",
       "    .dataframe tbody tr th:only-of-type {\n",
       "        vertical-align: middle;\n",
       "    }\n",
       "\n",
       "    .dataframe tbody tr th {\n",
       "        vertical-align: top;\n",
       "    }\n",
       "\n",
       "    .dataframe thead th {\n",
       "        text-align: right;\n",
       "    }\n",
       "</style>\n",
       "<table border=\"1\" class=\"dataframe\">\n",
       "  <thead>\n",
       "    <tr style=\"text-align: right;\">\n",
       "      <th></th>\n",
       "      <th>Sum</th>\n",
       "    </tr>\n",
       "  </thead>\n",
       "  <tbody>\n",
       "    <tr>\n",
       "      <td>Households stocks</td>\n",
       "      <td>0.00000</td>\n",
       "    </tr>\n",
       "    <tr>\n",
       "      <td>Households flow</td>\n",
       "      <td>-11.28386</td>\n",
       "    </tr>\n",
       "    <tr>\n",
       "      <td>Firms</td>\n",
       "      <td>-6.56134</td>\n",
       "    </tr>\n",
       "    <tr>\n",
       "      <td>Banks</td>\n",
       "      <td>-0.00000</td>\n",
       "    </tr>\n",
       "    <tr>\n",
       "      <td>Financial assets</td>\n",
       "      <td>-0.00000</td>\n",
       "    </tr>\n",
       "    <tr>\n",
       "      <td>Wages</td>\n",
       "      <td>-0.00006</td>\n",
       "    </tr>\n",
       "  </tbody>\n",
       "</table>\n",
       "</div>"
      ],
      "text/plain": [
       "                        Sum\n",
       "Households stocks   0.00000\n",
       "Households flow   -11.28386\n",
       "Firms              -6.56134\n",
       "Banks              -0.00000\n",
       "Financial assets   -0.00000\n",
       "Wages              -0.00006"
      ]
     },
     "execution_count": 2,
     "metadata": {},
     "output_type": "execute_result"
    }
   ],
   "source": [
    "def model():\n",
    "    model = Model()\n",
    "\n",
    "    # Accounting\n",
    "    model.set_var_default(0)\n",
    "    model.var('Y', desc='GDP', default = 31.372549019607845)\n",
    "    model.var('C', desc='Consumption', default = 14.640522875816991)\n",
    "    model.var('Id', desc='Investment', default = 6.274509803921569) # I is reserved to numpy\n",
    "    model.var('Omega', desc='Wage share')\n",
    "    model.var('Pi', desc='Profit share', default = 0.411765)\n",
    "    \n",
    "    # Identities\n",
    "    model.var('K', desc='Capital Stock', default = 100)\n",
    "    #model.var('K', desc='Capital Stock', default = 98.03922)\n",
    "    model.var('gk', desc='Capital Stock growth rate')\n",
    "    model.var('Yfc', desc='Full Capacity out-put')\n",
    "    model.var('u', desc='Capacity utilization ration')\n",
    "    \n",
    "    # Households\n",
    "    model.var('Yh', desc='Households’ income')\n",
    "    model.var('Ydh', desc='Households’ disposable income')\n",
    "    model.var('W', desc='Wages')\n",
    "    model.var('FD', desc='Profits', default = 6.829805584130843)\n",
    "    model.var('Mh', desc='Bank deposits')\n",
    "    model.var('B', desc='Government Bills', default = 73.65483130189038)\n",
    "    model.var('Sh', desc='Savings of Household', default = 3.1655184596361137)\n",
    "    model.var('Vh', desc='Household net wealth', default = 161.44144144144184)\n",
    "    model.var('pe', desc='Equities price', default = 0.9880216216216237)\n",
    "    model.var('Lambda', desc='proportion of household wealth allocated in equities')\n",
    "    model.var('Eq', desc='Equities', default = 9.80392156862745) # E is reserved for sympy\n",
    "\n",
    "    # Firms\n",
    "    model.var('Lf', desc='Firms Loans', default = 78.29005476064303)\n",
    "    model.var('FU', desc='Retained profits', default = 4.553203722753896)\n",
    "    model.var('Ft', desc='Total profits')\n",
    "    model.var('Fg', desc='Gross Profits')\n",
    "    model.var('h', desc='Propensity to invest', default = 0.2)\n",
    "    \n",
    "    \n",
    "    # Government\n",
    "    model.var('G', desc='Government Expenditure', default = 10.457516339869283)\n",
    "    model.var('T', desc='Taxes')\n",
    "    \n",
    "    # Profits\n",
    "    model.var('rn', desc='Net profit rate')\n",
    "    model.var('rg', desc='Gross profit rate')\n",
    "    \n",
    "    # Accouting\n",
    "    model.param('v', desc='Capital-Output ratio', default = 2.5)\n",
    "    model.param('mu', desc='Mark-up', default = 0.7)\n",
    "    \n",
    "    #-----------------------------\n",
    "    # Identities\n",
    "    model.param('delta', desc='Depreciation', default = 0.044)\n",
    "    \n",
    "    # Households\n",
    "    model.param('lambda_0', desc='Expectation of return', default = 0.08)\n",
    "    model.param('alpha1', desc='Consumption Sensitivity of wages', default = 0.8)\n",
    "    model.param('alpha2', desc='Consumption Sensitivity of wealth', default = 0.03375)\n",
    "    model.param('rm', desc= 'Deposits interest rate', default = 0.02)\n",
    "    model.param('rb', desc= 'Bills interest rate', default = 0.02)\n",
    "    #model.param('rm', desc= 'Deposits interest rate', default = 0)\n",
    "    #model.param('rb', desc= 'Bills interest rate', default = 0)\n",
    "    model.param('tau', desc='Direct taxes', default = 0.37)\n",
    "    \n",
    "    # Firms\n",
    "    model.param('sf', desc='Distribution of profits', default = 0.4)\n",
    "    model.param('a', desc='Fixed parameter', default = 0.1)\n",
    "    model.param('gamma', desc='adjstment parameter', default = 0.014)\n",
    "    model.param('un', desc='Natural capacity utilization rate', default = 0.8)\n",
    "    \n",
    "    \n",
    "    # Government\n",
    "    model.param('sigma', desc='Government expenditure rate', default = 0.34)\n",
    "    \n",
    "    \n",
    "    #-----------------------------\n",
    "    model.add('B = B(-1) + G - T + rb*B(-1)') # Eq (1) # Checked\n",
    "    model.add('G = sigma*Y(-1)') # Eq (2) # Checked\n",
    "    #model.add('G = sigma*Y') # Eq (2)\n",
    "    model.add('T= tau*Yh') # Eq (3) # Checked\n",
    "    model.add('Yh = W + FD + rm*(B(-1) + Mh(-1))') # Eq (4) # Checked\n",
    "    model.add('W = (1-Pi)*Y') # Eq (5) # Checked\n",
    "    model.add('Ydh = (1-tau)*Yh') # Eq (6) # Checked\n",
    "    model.add('C = alpha1*(1-tau)*W + alpha2*Vh(-1)') # Eq (7) # Checked\n",
    "    model.add('Sh = Ydh - C') # Eq (8) # Checked\n",
    "    model.add('Lambda = lambda_0 - rb') # Eq (9) # Checked\n",
    "    model.add('pe = (Lambda*Vh)/Eq') # Dynamic # Eq (10) # Checked\n",
    "    model.add('Vh = Vh(-1) + Sh + d(pe)*Eq(-1)') # Eq (11) # Checked\n",
    "    model.add('Mh = Mh(-1) + Sh - pe*d(Eq) - d(B)') # Eq (12) # Checked\n",
    "    model.add('Pi = mu/(1+mu)') # Eq (13) # Checked\n",
    "    model.add('Omega = 1 - Pi') # Aux (1) # Checked\n",
    "    model.add('Id = h*Y') # Eq (14) # Checked\n",
    "    model.add('h = h(-1) + if_true(u - un > 0.001)*h(-1)*gamma*(u-un) + if_true(un - u > 0.001)*h(-1)*gamma*(u-un)') # Eq (15)\n",
    "    model.add('K = K(-1) + Id - delta*K(-1)') # Eq (16) # Corrected (delta*K(-1))\n",
    "    model.add('Yfc = K(-1)/v') # Eq (17) # Checked\n",
    "    model.add('u = Y/Yfc') # Eq (18) # Checked\n",
    "    model.add('gk = (h*u)/v - delta') # Eq (19) # Checked\n",
    "    model.add('Lf = Lf(-1) + Id - FU - pe*d(Eq)') # Eq (20) # Checked\n",
    "    model.add('Eq = a*K(-1)') # Eq (21) # Checked\n",
    "    #model.add('Eq = a*K') # Eq (21)\n",
    "    model.add('FU = sf*(Pi*Y - rm*Lf(-1))') # Eq (22) # Checked\n",
    "    model.add('FD= (1-sf)*(Pi*Y - rm*Lf(-1))') # Eq (23) # Checked\n",
    "    model.add('Ft = (Pi*Y - rm*Lf(-1))') # Eq (24) # Checked\n",
    "    model.add('Fg = Pi*Y') # Eq (25)\n",
    "    model.add('rn = Pi*u/v - rb*(Lf(-1))/K(-2)') # Eq (26)\n",
    "    model.add('rg = Pi*u/v') # Eq (26)\n",
    "\n",
    "    model.add('Y = C + Id + G') # Eq (28)\n",
    "    #----------------\n",
    "    model.var('Z', desc='Autonomous')\n",
    "    \n",
    "    model.add('Z = alpha2*Vh(-1)')\n",
    "    \n",
    "    model.var('gB', desc='Government bounds growth rate')\n",
    "    model.add('gB = d(B)/B(-1)')\n",
    "    \n",
    "    \n",
    "    model.var('gVh', desc='Vh growth rate')\n",
    "    model.add('gVh = d(Vh)/Vh(-1)')\n",
    "    \n",
    "    model.var('alpha3', desc='Total propensity to consume out of income')\n",
    "    model.var('alpha3_resid')\n",
    "    \n",
    "    model.add('alpha3 = C/Y')\n",
    "    model.add('alpha3_resid = 1 - sigma - h')\n",
    "    \n",
    "    return model\n",
    "  \n",
    "t_check = 100\n",
    "print('Evaluating consistenty at time = {}'.format(t_check))\n",
    "\n",
    "test = model()\n",
    "SolveSFC(test, time=t_check, table = False)\n",
    "evaldf = pd.DataFrame({\n",
    "    'Households stocks' : test.evaluate('d(Mh) - d(Vh)'),\n",
    "    'Households flow' : test.evaluate('d(Mh) - Sh - pe*d(Eq)'),\n",
    "    'Firms' : test.evaluate('d(Lf) - Id + FU - pe*d(Eq)'),\n",
    "    'Banks' : test.evaluate('d(Lf) - d(Mh)'),\n",
    "    'Financial assets' : test.evaluate('d(Lf) - d(Mh)'),\n",
    "    \"Wages\" : test.evaluate('W - (1-Pi)*Y'),\n",
    "}, index = ['Sum'])\n",
    "evaldf = evaldf.transpose()\n",
    "evaldf.round(5)"
   ]
  },
  {
   "cell_type": "code",
   "execution_count": 3,
   "metadata": {
    "ExecuteTime": {
     "end_time": "2019-10-15T13:13:43.869816Z",
     "start_time": "2019-10-15T13:13:39.733651Z"
    }
   },
   "outputs": [
    {
     "data": {
      "image/png": "[encoded data removed]",
      "text/plain": [
       "<Figure size 1152x720 with 4 Axes>"
      ]
     },
     "metadata": {
      "needs_background": "light"
     },
     "output_type": "display_data"
    }
   ],
   "source": [
    "base = model()\n",
    "df = SolveSFC(base, 1000)\n",
    "df['sigma_g'] = df['sigma']/(1+df['Y'].pct_change())\n",
    "df['Adjus'] = df['alpha3'] - df['alpha3_resid']\n",
    "\n",
    "fig, ax = plt.subplots(2,2, figsize=(16,10))\n",
    "\n",
    "df['Y'][200:].pct_change().plot(title = \"GDP growth rate\", ax=ax[0,0])\n",
    "df[['alpha3', 'h', 'sigma']].apply(lambda x: np.abs(x)).plot(kind = 'area', stacked=True, ax=ax[0,1], title = \"$\\\\alpha_3 + h + \\sigma$\")\n",
    "df[['Adjus']].plot(ax=ax[1,1], title = 'Difference between estimated $\\\\alpha_3$ and $1-h-\\sigma$')\n",
    "df[['alpha3', 'h', 'sigma_g']].apply(lambda x: np.abs(x)).plot(kind = 'area', stacked=True, ax=ax[1,0], title = \"$\\\\alpha_3 + h + (\\sigma/(1+g))$\")\n",
    "\n",
    "sns.despine()\n",
    "plt.tight_layout()\n",
    "plt.show()"
   ]
  },
  {
   "cell_type": "code",
   "execution_count": 4,
   "metadata": {
    "ExecuteTime": {
     "end_time": "2019-10-15T13:13:47.082623Z",
     "start_time": "2019-10-15T13:13:46.760396Z"
    }
   },
   "outputs": [
    {
     "data": {
      "image/png": "[encoded data removed]",
      "text/plain": [
       "<Figure size 432x288 with 1 Axes>"
      ]
     },
     "metadata": {
      "needs_background": "light"
     },
     "output_type": "display_data"
    }
   ],
   "source": [
    "df[\"Soma\"] = (df['alpha3'] + df['h'] + df['sigma'])\n",
    "df[\"Soma_(1+g)\"] = (df['alpha3'] + df['h'] + (df['sigma'])/(1+df['Y'].pct_change()))\n",
    "df[[\"Soma\", \"Soma_(1+g)\"]].dropna().head(15)\n",
    "df[[\"Soma\", \"Soma_(1+g)\"]].dropna().plot()\n",
    "sns.despine()\n",
    "plt.show()"
   ]
  },
  {
   "cell_type": "code",
   "execution_count": 5,
   "metadata": {
    "ExecuteTime": {
     "end_time": "2019-10-15T13:13:53.232766Z",
     "start_time": "2019-10-15T13:13:52.957234Z"
    }
   },
   "outputs": [
    {
     "data": {
      "text/plain": [
       "1    0.020150\n",
       "2    0.017893\n",
       "3    0.016481\n",
       "4    0.015597\n",
       "5    0.015043\n",
       "6    0.014698\n",
       "7    0.014484\n",
       "8    0.014353\n",
       "9    0.014274\n",
       "Name: Y, dtype: float64"
      ]
     },
     "execution_count": 5,
     "metadata": {},
     "output_type": "execute_result"
    },
    {
     "data": {
      "image/png": "[encoded data removed]",
      "text/plain": [
       "<Figure size 432x288 with 1 Axes>"
      ]
     },
     "metadata": {
      "needs_background": "light"
     },
     "output_type": "display_data"
    }
   ],
   "source": [
    "fig, ax = plt.subplots()\n",
    "\n",
    "df['Y'].pct_change().plot(ax=ax)\n",
    "ax.axhline(y=df['Y'].pct_change()[1], color='black', ls='--', lw=2)\n",
    "\n",
    "df['Y'].pct_change()[:10].dropna()"
   ]
  },
  {
   "cell_type": "markdown",
   "metadata": {},
   "source": [
    "# Analytical solution"
   ]
  },
  {
   "cell_type": "code",
   "execution_count": 6,
   "metadata": {
    "ExecuteTime": {
     "end_time": "2019-10-15T13:14:18.619561Z",
     "start_time": "2019-10-15T13:14:18.265002Z"
    }
   },
   "outputs": [],
   "source": [
    "base_eq = model()\n",
    "df = SolveSFC(base_eq, time=1)\n",
    "t = sp.Symbol('t')\n",
    "\n",
    "for i in base_eq.variables:\n",
    "  globals()[\"_\" + i] = sp.Function(i)\n",
    "  \n",
    "for i in base_eq.parameters:\n",
    "  globals()[i] = sp.symbols(i, positive=True)\n"
   ]
  },
  {
   "cell_type": "markdown",
   "metadata": {},
   "source": [
    "## Households"
   ]
  },
  {
   "cell_type": "code",
   "execution_count": 7,
   "metadata": {
    "ExecuteTime": {
     "end_time": "2019-10-15T13:14:28.263219Z",
     "start_time": "2019-10-15T13:14:27.973944Z"
    }
   },
   "outputs": [
    {
     "name": "stdout",
     "output_type": "stream",
     "text": [
      "Yh(t) = rm⋅(B(t - 1) + Mh(t - 1)) + FD(t) + W(t)\n",
      "W(t) = (1 - Π(t))⋅Y(t)\n",
      "Ydh(t) = (1 - τ)⋅Yh(t)\n",
      "C(t) = α₁⋅(1 - τ)⋅W(t) + α₂⋅Vh(t - 1)\n",
      "Sh(t) = -C(t) + Ydh(t)\n",
      "Vh(t) = (pe(t) - pe(t - 1))⋅Eq(t - 1) + Sh(t) + Vh(t - 1)\n",
      "Mh(t) = -(Eq(t) - Eq(t - 1))⋅pe(t) - B(t) + B(t - 1) + Mh(t - 1) + Sh(t)\n"
     ]
    }
   ],
   "source": [
    "Yh = _W(t) + _FD(t) + rm*(_Mh(t-1) + _B(t-1))\n",
    "pprint(Eq(_Yh(t), Yh))\n",
    "W = (1-_Pi(t))*_Y(t)\n",
    "pprint(Eq(_W(t), W))\n",
    "Ydh = (1-tau)*_Yh(t)\n",
    "pprint(Eq(_Ydh(t), Ydh))\n",
    "C = alpha1*(1-tau)*_W(t) + alpha2*_Vh(t-1)\n",
    "pprint(Eq(_C(t), C))\n",
    "Sh = _Ydh(t) - _C(t)\n",
    "pprint(Eq(_Sh(t), Sh))\n",
    "Vh = _Vh(t-1) + _Sh(t) + (_pe(t) - _pe(t-1))*_Eq(t-1)\n",
    "pprint(Eq(_Vh(t),Vh ))\n",
    "Mh = _Mh(t-1) + _Sh(t) - _pe(t)*(_Eq(t) - _Eq(t-1)) - (_B(t) - _B(t-1))\n",
    "pprint(Eq(_Mh(t),Mh ))"
   ]
  },
  {
   "cell_type": "markdown",
   "metadata": {},
   "source": [
    "## Government"
   ]
  },
  {
   "cell_type": "code",
   "execution_count": 8,
   "metadata": {
    "ExecuteTime": {
     "end_time": "2019-10-15T13:14:56.887285Z",
     "start_time": "2019-10-15T13:14:56.846012Z"
    }
   },
   "outputs": [
    {
     "name": "stdout",
     "output_type": "stream",
     "text": [
      "G(t) = σ⋅Y(t)\n",
      "T(t) = τ⋅Yh(t)\n",
      "B(t) = rm⋅B(t - 1) + B(t - 1) + G(t) - T(t)\n"
     ]
    }
   ],
   "source": [
    "#G = sigma*_Y(t-1)\n",
    "G = sigma*_Y(t)\n",
    "pprint(Eq(_G(t), G))\n",
    "T = tau*_Yh(t)\n",
    "pprint(Eq(_T(t), T))\n",
    "B = _B(t-1) + (_G(t)-_T(t)) + rm*_B(t-1)\n",
    "pprint(Eq(_B(t), B))"
   ]
  },
  {
   "cell_type": "markdown",
   "metadata": {},
   "source": [
    "## Firms"
   ]
  },
  {
   "cell_type": "code",
   "execution_count": 9,
   "metadata": {
    "ExecuteTime": {
     "end_time": "2019-10-15T13:15:22.599722Z",
     "start_time": "2019-10-15T13:15:22.409054Z"
    }
   },
   "outputs": [
    {
     "name": "stdout",
     "output_type": "stream",
     "text": [
      "         μ  \n",
      "Π(t) = ─────\n",
      "       μ + 1\n",
      "Id(t) = Y(t)⋅h(t)\n",
      "h(t) = γ⋅(-un + u(t))⋅h(t - 1) + h(t - 1)\n",
      "K(t) = -δ⋅K(t - 1) + Id(t) + K(t - 1)\n",
      "         K(t - 1)\n",
      "Yfc(t) = ────────\n",
      "            v    \n",
      "        Y(t) \n",
      "u(t) = ──────\n",
      "       Yfc(t)\n",
      "        h(t)⋅u(t)\n",
      "gk(t) = ─────────\n",
      "            v    \n",
      "Lf(t) = -(Eq(t) - Eq(t - 1))⋅pe(t) - FU(t) + Id(t) + Lf(t - 1)\n",
      "Ft(t) = -rm⋅Lf(t) + Π(t)⋅Y(t)\n",
      "FU(t) = sf⋅Ft(t)\n",
      "FD(t) = (1 - sf)⋅Ft(t)\n",
      "Λ(t) = λ₀ - rm\n",
      "        Λ(t)⋅Vh(t)\n",
      "pe(t) = ──────────\n",
      "          Eq(t)   \n",
      "Eq(t) = a⋅K(t - 1)\n"
     ]
    }
   ],
   "source": [
    "Pi = mu/(1+mu)\n",
    "pprint(Eq(_Pi(t), Pi))\n",
    "Id = _h(t)*_Y(t)\n",
    "pprint(Eq(_Id(t), Id))\n",
    "h = _h(t-1)*(gamma*(_u(t) - un)) + _h(t-1)\n",
    "pprint(Eq(_h(t), h))\n",
    "K = _Id(t) + _K(t-1) - delta*_K(t-1) \n",
    "pprint(Eq(_K(t),K))\n",
    "Yfc = _K(t-1)/v\n",
    "pprint(Eq(_Yfc(t), Yfc))\n",
    "u = _Y(t)/_Yfc(t)\n",
    "pprint(Eq(_u(t), u))\n",
    "gk = _h(t)*_u(t)/v\n",
    "pprint(Eq(_gk(t), gk))\n",
    "Lf = _Lf(t-1) + _Id(t) - _FU(t) - _pe(t)*(_Eq(t) - _Eq(t-1))\n",
    "pprint(Eq(_Lf(t), Lf))\n",
    "Ft = _Pi(t)*_Y(t) - rm*_Lf(t)\n",
    "pprint(Eq(_Ft(t), Ft))\n",
    "FU = sf*_Ft(t)\n",
    "pprint(Eq(_FU(t), FU))\n",
    "FD = (1-sf)*_Ft(t)\n",
    "pprint(Eq(_FD(t), FD))\n",
    "Lambda = lambda_0 - rm\n",
    "pprint(Eq(_Lambda(t), Lambda))\n",
    "pe = _Lambda(t)*_Vh(t)/_Eq(t)\n",
    "pprint(Eq(_pe(t), pe))\n",
    "E = a*_K(t-1)\n",
    "pprint(Eq(_Eq(t), E))"
   ]
  },
  {
   "cell_type": "markdown",
   "metadata": {},
   "source": [
    "## Goods market"
   ]
  },
  {
   "cell_type": "code",
   "execution_count": 10,
   "metadata": {
    "ExecuteTime": {
     "end_time": "2019-10-15T13:15:39.918484Z",
     "start_time": "2019-10-15T13:15:39.904958Z"
    }
   },
   "outputs": [
    {
     "name": "stdout",
     "output_type": "stream",
     "text": [
      "Y(t) = C(t) + G(t) + Id(t)\n"
     ]
    }
   ],
   "source": [
    "Y = _C(t) + _Id(t) + _G(t)\n",
    "pprint(Eq(_Y(t), Y))"
   ]
  },
  {
   "cell_type": "markdown",
   "metadata": {},
   "source": [
    "Replacing"
   ]
  },
  {
   "cell_type": "code",
   "execution_count": 47,
   "metadata": {
    "ExecuteTime": {
     "end_time": "2019-10-15T13:43:57.513396Z",
     "start_time": "2019-10-15T13:43:56.885938Z"
    },
    "scrolled": false
   },
   "outputs": [
    {
     "name": "stdout",
     "output_type": "stream",
     "text": [
      "C(t) + G(t) + Id(t) - Y(t) = 0\n",
      "α₁⋅(1 - τ)⋅W(t) + α₂⋅Vh(t - 1) + σ⋅Y(t) + Y(t)⋅h(t) - Y(t) = 0\n",
      "α₁⋅ω⋅(1 - τ)⋅Y(t) + α₂⋅Vh(t - 1) + σ⋅Y(t) + Y(t)⋅h(t) - Y(t) = 0\n",
      "α₁⋅ω⋅(1 - τ)⋅Y(t) + α₂⋅Vh(t - 1) + σ⋅Y(t) + Y(t)⋅h(t) - Y(t) = 0\n",
      "\n",
      "Replacing t-1 variables by t/(1+g) variables and solving\n",
      "\n",
      "                    α₂⋅Vh(t)                                \n",
      "α₁⋅ω⋅(1 - τ)⋅Y(t) + ──────── + σ⋅Y(t) + Y(t)⋅h(t) - Y(t) = 0\n",
      "                    g_Z + 1                                 \n",
      "                                      α₂⋅Vh(t)                               \n",
      "Y(t) = ──────────────────────────────────────────────────────────────────────\n",
      "       α₁⋅(g_Z⋅ω⋅τ - g_Z⋅ω + ω⋅τ - ω) - g_Z⋅σ + g_Z - σ + (-g_Z - 1)⋅h(t) + 1\n",
      "\n",
      "Replacing Vh\n",
      "\n",
      "                   α₂⋅((pe(t) - pe(t - 1))⋅Eq(t - 1) + Sh(t) + Vh(t - 1))     \n",
      "Y(t) = ───────────────────────────────────────────────────────────────────────\n",
      "       α₁⋅g_Z⋅ω⋅τ - α₁⋅g_Z⋅ω + α₁⋅ω⋅τ - α₁⋅ω - g_Z⋅σ - g_Z⋅h(t) + g_Z - σ - h(\n",
      "\n",
      "      \n",
      "──────\n",
      "t) + 1\n",
      "\n",
      "Replacing Sh, C and so on\n",
      "\n",
      "               α₂⋅((pe(t) - pe(t - 1))⋅Eq(t - 1) - C(t) + Vh(t - 1) + Ydh(t)) \n",
      "Y(t) = ───────────────────────────────────────────────────────────────────────\n",
      "       α₁⋅g_Z⋅ω⋅τ - α₁⋅g_Z⋅ω + α₁⋅ω⋅τ - α₁⋅ω - g_Z⋅σ - g_Z⋅h(t) + g_Z - σ - h(\n",
      "\n",
      "      \n",
      "──────\n",
      "t) + 1\n",
      "       α₂⋅(-α₁⋅(1 - τ)⋅W(t) - α₂⋅Vh(t - 1) + (pe(t) - pe(t - 1))⋅Eq(t - 1) + V\n",
      "Y(t) = ───────────────────────────────────────────────────────────────────────\n",
      "             α₁⋅g_Z⋅ω⋅τ - α₁⋅g_Z⋅ω + α₁⋅ω⋅τ - α₁⋅ω - g_Z⋅σ - g_Z⋅h(t) + g_Z - \n",
      "\n",
      "h(t - 1) + Ydh(t))\n",
      "──────────────────\n",
      "σ - h(t) + 1      \n",
      "       α₂⋅(-α₁⋅ω⋅(1 - τ)⋅Y(t) - α₂⋅Vh(t - 1) + (pe(t) - pe(t - 1))⋅Eq(t - 1) +\n",
      "Y(t) = ───────────────────────────────────────────────────────────────────────\n",
      "              α₁⋅g_Z⋅ω⋅τ - α₁⋅g_Z⋅ω + α₁⋅ω⋅τ - α₁⋅ω - g_Z⋅σ - g_Z⋅h(t) + g_Z -\n",
      "\n",
      " Vh(t - 1) + Ydh(t))\n",
      "────────────────────\n",
      " σ - h(t) + 1       \n",
      "       α₂⋅(-α₁⋅ω⋅(1 - τ)⋅(α₁⋅ω⋅(1 - τ)⋅Y(t) + α₂⋅Vh(t - 1) + σ⋅Y(t) + Y(t)⋅h(t\n",
      "Y(t) = ───────────────────────────────────────────────────────────────────────\n",
      "                                       α₁⋅g_Z⋅ω⋅τ - α₁⋅g_Z⋅ω + α₁⋅ω⋅τ - α₁⋅ω -\n",
      "\n",
      ")) - α₂⋅Vh(t - 1) + (pe(t) - pe(t - 1))⋅Eq(t - 1) + Vh(t - 1) + Ydh(t))\n",
      "───────────────────────────────────────────────────────────────────────\n",
      " g_Z⋅σ - g_Z⋅h(t) + g_Z - σ - h(t) + 1                                 \n",
      "Replacing t-1 variables by t/(1+g) variables and solving\n",
      "                                    α₂⋅(-α₁⋅α₂⋅ω⋅τ⋅Vh(t - 1) + α₁⋅α₂⋅ω⋅Vh(t - \n",
      "Y(t) = ───────────────────────────────────────────────────────────────────────\n",
      "           2     2  2       2     2       2     2                             \n",
      "       - α₁ ⋅α₂⋅ω ⋅τ  + 2⋅α₁ ⋅α₂⋅ω ⋅τ - α₁ ⋅α₂⋅ω  + α₁⋅α₂⋅ω⋅σ⋅τ - α₁⋅α₂⋅ω⋅σ + \n",
      "\n",
      "1) + α₂⋅Vh(t - 1) - Eq(t - 1)⋅pe(t) + Eq(t - 1)⋅pe(t - 1) - Vh(t - 1) - Ydh(t)\n",
      "──────────────────────────────────────────────────────────────────────────────\n",
      "                                                                              \n",
      "α₁⋅α₂⋅ω⋅τ⋅h(t) - α₁⋅α₂⋅ω⋅h(t) - α₁⋅g_Z⋅ω⋅τ + α₁⋅g_Z⋅ω - α₁⋅ω⋅τ + α₁⋅ω + g_Z⋅σ \n",
      "\n",
      ")                              \n",
      "───────────────────────────────\n",
      "                               \n",
      "+ g_Z⋅h(t) - g_Z + σ + h(t) - 1\n",
      "Ydh(t) = α₁⋅(-α₂⋅ω⋅τ⋅Vh(t - 1) + α₂⋅ω⋅Vh(t - 1)) + α₂⋅Vh(t - 1) - Eq(t - 1)⋅pe\n",
      "(t) + Eq(t - 1)⋅pe(t - 1) - Vh(t - 1)\n",
      "  Ydh(t)                                (-pe(t) + pe(t - 1))⋅Eq(t - 1)    \n",
      "───────── = -α₁⋅α₂⋅ω⋅τ + α₁⋅α₂⋅ω + α₂ + ────────────────────────────── - 1\n",
      "Vh(t - 1)                                         Vh(t - 1)               \n",
      "\n",
      "Let Cc be the capital gain share on Vh growth rate\n",
      "Vh(t) = (pe(t) - pe(t - 1))⋅Eq(t - 1) + Sh(t) + Vh(t - 1)\n",
      "     (-pe(t) + pe(t - 1))⋅Eq(t - 1)\n",
      "Cc = ──────────────────────────────\n",
      "               Vh(t - 1)           \n",
      "              Sh(t)  \n",
      "g_Vh = Cc + ─────────\n",
      "            Vh(t - 1)\n",
      "\n",
      "Replacing\n",
      "  Ydh(t)                                  \n",
      "───────── = Cc + α₂⋅(α₁⋅ω⋅(1 - τ) + 1) - 1\n",
      "Vh(t - 1)                                 \n"
     ]
    }
   ],
   "source": [
    "omega, g = symbols('omega g_Z')\n",
    "\n",
    "EqY = Y - _Y(t)\n",
    "pprint(Eq(EqY, 0))\n",
    "EqY = EqY.subs(_Id(t), Id).subs(_C(t), C).subs(_G(t), G)\n",
    "pprint(Eq(EqY, 0))\n",
    "EqY = EqY.subs(_W(t), W).subs(_Pi(t), (1- omega))\n",
    "pprint(Eq(EqY, 0))\n",
    "EqY = EqY.subs(_Ydh(t), Ydh).subs(_Yh(t), Yh)\n",
    "pprint(Eq(EqY, 0))\n",
    "EqY = EqY.subs(_Vh(t-1), _Vh(t)/(1+g)).subs(_Y(t-1), _Y(t)/(1+g))\n",
    "\n",
    "print(\"\\nReplacing t-1 variables by t/(1+g) variables and solving\\n\")\n",
    "pprint(Eq(EqY, 0))\n",
    "sol = solve(EqY, _Y(t))[0]\n",
    "pprint(Eq(_Y(t), sol.collect(alpha1).collect(_h(t)).collect(mu)))\n",
    "\n",
    "print(\"\\nReplacing Vh\\n\")\n",
    "sol = sol.subs(_Vh(t), Vh)\n",
    "pprint(Eq(_Y(t), sol))\n",
    "\n",
    "print('\\nReplacing Sh, C and so on\\n')\n",
    "sol = sol.subs(_Sh(t), Sh)\n",
    "pprint(Eq(_Y(t), sol))\n",
    "\n",
    "sol = sol.subs(_C(t), C)\n",
    "pprint(Eq(_Y(t), sol))\n",
    "sol = sol.subs(_W(t), W).subs(_Pi(t), (1- omega))\n",
    "pprint(Eq(_Y(t), sol))\n",
    "sol = sol.subs(_Y(t), Y).subs(_C(t), C).subs(_W(t), W).subs(_Pi(t), (1- omega)).subs(_Id(t), Id).subs(_G(t), G)\n",
    "pprint(Eq(_Y(t), sol))\n",
    "\n",
    "print(\"Replacing t-1 variables by t/(1+g) variables and solving\")\n",
    "sol = sol -_Y(t)\n",
    "sol = solve(sol, _Y(t))[0]\n",
    "pprint(Eq(_Y(t), sol))\n",
    "sol = solve(sol, _Ydh(t))[0]\n",
    "pprint(Eq(_Ydh(t), sol.collect(alpha1).collect(_h(t)).collect(mu)))\n",
    "sol = (sol/_Vh(t-1)).simplify().collect(_Eq(t-1)).collect(_Vh(t-1))\n",
    "pprint(Eq(_Ydh(t)/_Vh(t-1), sol))\n",
    "\n",
    "Cc, gVh = symbols('Cc g_Vh')\n",
    "\n",
    "print('\\nLet Cc be the capital gain share on Vh growth rate')\n",
    "pprint(Eq(_Vh(t), Vh))\n",
    "pprint(Eq(Cc, ((-_pe(t) + _pe(t - 1))*_Eq(t - 1))/_Vh(t-1)))\n",
    "pprint(Eq(gVh, Cc + (_Sh(t)/_Vh(t-1))))\n",
    "\n",
    "print(\"\\nReplacing\")\n",
    "sol = sol.subs(((-_pe(t) + _pe(t - 1))*_Eq(t - 1))/_Vh(t-1), Cc)\n",
    "sol = sol.collect(alpha1*omega).collect(alpha2)\n",
    "pprint(Eq(_Ydh(t)/_Vh(t-1), sol))\n",
    "\n"
   ]
  },
  {
   "cell_type": "code",
   "execution_count": null,
   "metadata": {},
   "outputs": [],
   "source": []
  }
 ],
 "metadata": {
  "hide_input": false,
  "kernelspec": {
   "display_name": "Python 3",
   "language": "python",
   "name": "python3"
  },
  "language_info": {
   "codemirror_mode": {
    "name": "ipython",
    "version": 3
   },
   "file_extension": ".py",
   "mimetype": "text/x-python",
   "name": "python",
   "nbconvert_exporter": "python",
   "pygments_lexer": "ipython3",
   "version": "3.6.8"
  },
  "latex_envs": {
   "LaTeX_envs_menu_present": true,
   "autoclose": false,
   "autocomplete": true,
   "bibliofile": "biblio.bib",
   "cite_by": "apalike",
   "current_citInitial": 1,
   "eqLabelWithNumbers": true,
   "eqNumInitial": 1,
   "hotkeys": {
    "equation": "Ctrl-E",
    "itemize": "Ctrl-I"
   },
   "labels_anchors": false,
   "latex_user_defs": false,
   "report_style_numbering": false,
   "user_envs_cfg": false
  }
 },
 "nbformat": 4,
 "nbformat_minor": 2
}
