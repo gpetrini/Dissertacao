{
 "cells": [
  {
   "cell_type": "markdown",
   "metadata": {},
   "source": [
    "# Extracting 'uncertainty' from papers\n",
    "\n",
    "Based on [Qaiser](https://medium.com/@rqaiserr/how-to-convert-pdfs-into-searchable-key-words-with-python-85aab86c544f)"
   ]
  },
  {
   "cell_type": "code",
   "execution_count": 1,
   "metadata": {},
   "outputs": [],
   "source": [
    "import PyPDF2 \n",
    "import textract\n",
    "from nltk.tokenize import word_tokenize\n",
    "from nltk.corpus import stopwords"
   ]
  },
  {
   "cell_type": "code",
   "execution_count": 2,
   "metadata": {},
   "outputs": [],
   "source": [
    "files = {\n",
    "    'Bhaduri & Marglin (1990)' : ['Bhaduri_Marglin_1990_Unemployment and the Real Wage.pdf', '1990'],\n",
    "    'Steindl (1979)' : ['Steindl - Stagnation theory and stagnation policy.pdf', '1979'],\n",
    "}\n",
    "\n",
    "filesnames = [i[0] for i in files.values()] \n",
    "\n",
    "pdfFileObj = [open(i,'rb') for i in filesnames]\n",
    "\n",
    "pdfReader = [PyPDF2.PdfFileReader(pdfFileObj[i]) for i in range(len(pdfFileObj))]"
   ]
  },
  {
   "cell_type": "markdown",
   "metadata": {},
   "source": [
    "discerning the number of pages will allow us to parse through all the pages"
   ]
  },
  {
   "cell_type": "code",
   "execution_count": 94,
   "metadata": {},
   "outputs": [
    {
     "ename": "IndexError",
     "evalue": "list index out of range",
     "output_type": "error",
     "traceback": [
      "\u001b[0;31m---------------------------------------------------------------------------\u001b[0m",
      "\u001b[0;31mIndexError\u001b[0m                                Traceback (most recent call last)",
      "\u001b[0;32m<ipython-input-94-ce931c2067ef>\u001b[0m in \u001b[0;36m<module>\u001b[0;34m\u001b[0m\n\u001b[1;32m      6\u001b[0m \u001b[0;32mfor\u001b[0m \u001b[0mj\u001b[0m \u001b[0;32min\u001b[0m \u001b[0mrange\u001b[0m\u001b[0;34m(\u001b[0m\u001b[0mlen\u001b[0m\u001b[0;34m(\u001b[0m\u001b[0mfiles\u001b[0m\u001b[0;34m)\u001b[0m\u001b[0;34m)\u001b[0m\u001b[0;34m:\u001b[0m\u001b[0;34m\u001b[0m\u001b[0;34m\u001b[0m\u001b[0m\n\u001b[1;32m      7\u001b[0m     \u001b[0;32mwhile\u001b[0m \u001b[0mcount\u001b[0m\u001b[0;34m[\u001b[0m\u001b[0mj\u001b[0m\u001b[0;34m]\u001b[0m \u001b[0;34m<\u001b[0m \u001b[0mnum_pages\u001b[0m\u001b[0;34m[\u001b[0m\u001b[0mj\u001b[0m\u001b[0;34m]\u001b[0m\u001b[0;34m:\u001b[0m\u001b[0;34m\u001b[0m\u001b[0;34m\u001b[0m\u001b[0m\n\u001b[0;32m----> 8\u001b[0;31m         \u001b[0mpageObj\u001b[0m \u001b[0;34m=\u001b[0m \u001b[0;34m[\u001b[0m\u001b[0mpdfReader\u001b[0m\u001b[0;34m[\u001b[0m\u001b[0mj\u001b[0m\u001b[0;34m]\u001b[0m\u001b[0;34m.\u001b[0m\u001b[0mgetPage\u001b[0m\u001b[0;34m(\u001b[0m\u001b[0mcount\u001b[0m\u001b[0;34m[\u001b[0m\u001b[0mj\u001b[0m\u001b[0;34m]\u001b[0m\u001b[0;34m)\u001b[0m \u001b[0;32mfor\u001b[0m \u001b[0mj\u001b[0m \u001b[0;32min\u001b[0m \u001b[0mrange\u001b[0m\u001b[0;34m(\u001b[0m\u001b[0mlen\u001b[0m\u001b[0;34m(\u001b[0m\u001b[0mfiles\u001b[0m\u001b[0;34m)\u001b[0m\u001b[0;34m)\u001b[0m\u001b[0;34m]\u001b[0m\u001b[0;34m\u001b[0m\u001b[0;34m\u001b[0m\u001b[0m\n\u001b[0m\u001b[1;32m      9\u001b[0m         \u001b[0mcount\u001b[0m\u001b[0;34m[\u001b[0m\u001b[0mj\u001b[0m\u001b[0;34m]\u001b[0m \u001b[0;34m+=\u001b[0m\u001b[0;36m1\u001b[0m\u001b[0;34m\u001b[0m\u001b[0;34m\u001b[0m\u001b[0m\n\u001b[1;32m     10\u001b[0m         \u001b[0mtext\u001b[0m\u001b[0;34m[\u001b[0m\u001b[0mj\u001b[0m\u001b[0;34m]\u001b[0m \u001b[0;34m+=\u001b[0m \u001b[0;34m[\u001b[0m\u001b[0mpageObj\u001b[0m\u001b[0;34m[\u001b[0m\u001b[0mj\u001b[0m\u001b[0;34m]\u001b[0m\u001b[0;34m.\u001b[0m\u001b[0mextractText\u001b[0m\u001b[0;34m(\u001b[0m\u001b[0;34m)\u001b[0m \u001b[0;32mfor\u001b[0m \u001b[0mj\u001b[0m \u001b[0;32min\u001b[0m \u001b[0mrange\u001b[0m\u001b[0;34m(\u001b[0m\u001b[0mlen\u001b[0m\u001b[0;34m(\u001b[0m\u001b[0mfiles\u001b[0m\u001b[0;34m)\u001b[0m\u001b[0;34m)\u001b[0m\u001b[0;34m]\u001b[0m\u001b[0;34m\u001b[0m\u001b[0;34m\u001b[0m\u001b[0m\n",
      "\u001b[0;32m<ipython-input-94-ce931c2067ef>\u001b[0m in \u001b[0;36m<listcomp>\u001b[0;34m(.0)\u001b[0m\n\u001b[1;32m      6\u001b[0m \u001b[0;32mfor\u001b[0m \u001b[0mj\u001b[0m \u001b[0;32min\u001b[0m \u001b[0mrange\u001b[0m\u001b[0;34m(\u001b[0m\u001b[0mlen\u001b[0m\u001b[0;34m(\u001b[0m\u001b[0mfiles\u001b[0m\u001b[0;34m)\u001b[0m\u001b[0;34m)\u001b[0m\u001b[0;34m:\u001b[0m\u001b[0;34m\u001b[0m\u001b[0;34m\u001b[0m\u001b[0m\n\u001b[1;32m      7\u001b[0m     \u001b[0;32mwhile\u001b[0m \u001b[0mcount\u001b[0m\u001b[0;34m[\u001b[0m\u001b[0mj\u001b[0m\u001b[0;34m]\u001b[0m \u001b[0;34m<\u001b[0m \u001b[0mnum_pages\u001b[0m\u001b[0;34m[\u001b[0m\u001b[0mj\u001b[0m\u001b[0;34m]\u001b[0m\u001b[0;34m:\u001b[0m\u001b[0;34m\u001b[0m\u001b[0;34m\u001b[0m\u001b[0m\n\u001b[0;32m----> 8\u001b[0;31m         \u001b[0mpageObj\u001b[0m \u001b[0;34m=\u001b[0m \u001b[0;34m[\u001b[0m\u001b[0mpdfReader\u001b[0m\u001b[0;34m[\u001b[0m\u001b[0mj\u001b[0m\u001b[0;34m]\u001b[0m\u001b[0;34m.\u001b[0m\u001b[0mgetPage\u001b[0m\u001b[0;34m(\u001b[0m\u001b[0mcount\u001b[0m\u001b[0;34m[\u001b[0m\u001b[0mj\u001b[0m\u001b[0;34m]\u001b[0m\u001b[0;34m)\u001b[0m \u001b[0;32mfor\u001b[0m \u001b[0mj\u001b[0m \u001b[0;32min\u001b[0m \u001b[0mrange\u001b[0m\u001b[0;34m(\u001b[0m\u001b[0mlen\u001b[0m\u001b[0;34m(\u001b[0m\u001b[0mfiles\u001b[0m\u001b[0;34m)\u001b[0m\u001b[0;34m)\u001b[0m\u001b[0;34m]\u001b[0m\u001b[0;34m\u001b[0m\u001b[0;34m\u001b[0m\u001b[0m\n\u001b[0m\u001b[1;32m      9\u001b[0m         \u001b[0mcount\u001b[0m\u001b[0;34m[\u001b[0m\u001b[0mj\u001b[0m\u001b[0;34m]\u001b[0m \u001b[0;34m+=\u001b[0m\u001b[0;36m1\u001b[0m\u001b[0;34m\u001b[0m\u001b[0;34m\u001b[0m\u001b[0m\n\u001b[1;32m     10\u001b[0m         \u001b[0mtext\u001b[0m\u001b[0;34m[\u001b[0m\u001b[0mj\u001b[0m\u001b[0;34m]\u001b[0m \u001b[0;34m+=\u001b[0m \u001b[0;34m[\u001b[0m\u001b[0mpageObj\u001b[0m\u001b[0;34m[\u001b[0m\u001b[0mj\u001b[0m\u001b[0;34m]\u001b[0m\u001b[0;34m.\u001b[0m\u001b[0mextractText\u001b[0m\u001b[0;34m(\u001b[0m\u001b[0;34m)\u001b[0m \u001b[0;32mfor\u001b[0m \u001b[0mj\u001b[0m \u001b[0;32min\u001b[0m \u001b[0mrange\u001b[0m\u001b[0;34m(\u001b[0m\u001b[0mlen\u001b[0m\u001b[0;34m(\u001b[0m\u001b[0mfiles\u001b[0m\u001b[0;34m)\u001b[0m\u001b[0;34m)\u001b[0m\u001b[0;34m]\u001b[0m\u001b[0;34m\u001b[0m\u001b[0;34m\u001b[0m\u001b[0m\n",
      "\u001b[0;32m~/miniconda3/lib/python3.7/site-packages/PyPDF2/pdf.py\u001b[0m in \u001b[0;36mgetPage\u001b[0;34m(self, pageNumber)\u001b[0m\n\u001b[1;32m   1175\u001b[0m         \u001b[0;32mif\u001b[0m \u001b[0mself\u001b[0m\u001b[0;34m.\u001b[0m\u001b[0mflattenedPages\u001b[0m \u001b[0;34m==\u001b[0m \u001b[0;32mNone\u001b[0m\u001b[0;34m:\u001b[0m\u001b[0;34m\u001b[0m\u001b[0;34m\u001b[0m\u001b[0m\n\u001b[1;32m   1176\u001b[0m             \u001b[0mself\u001b[0m\u001b[0;34m.\u001b[0m\u001b[0m_flatten\u001b[0m\u001b[0;34m(\u001b[0m\u001b[0;34m)\u001b[0m\u001b[0;34m\u001b[0m\u001b[0;34m\u001b[0m\u001b[0m\n\u001b[0;32m-> 1177\u001b[0;31m         \u001b[0;32mreturn\u001b[0m \u001b[0mself\u001b[0m\u001b[0;34m.\u001b[0m\u001b[0mflattenedPages\u001b[0m\u001b[0;34m[\u001b[0m\u001b[0mpageNumber\u001b[0m\u001b[0;34m]\u001b[0m\u001b[0;34m\u001b[0m\u001b[0;34m\u001b[0m\u001b[0m\n\u001b[0m\u001b[1;32m   1178\u001b[0m \u001b[0;34m\u001b[0m\u001b[0m\n\u001b[1;32m   1179\u001b[0m     namedDestinations = property(lambda self:\n",
      "\u001b[0;31mIndexError\u001b[0m: list index out of range"
     ]
    }
   ],
   "source": [
    "text = [list() for i in range(len(files))]\n",
    "num_pages = [pdfReader[i].numPages for i in range(len(pdfReader))]\n",
    "count = [0 for i in range(len(files))]\n",
    "    \n",
    "\n",
    "for j in range(len(files)):\n",
    "    while count[j] < num_pages[j]:\n",
    "        pageObj = [pdfReader[j].getPage(count[j]) for j in range(len(files))]\n",
    "        count[j] +=1\n",
    "        text[j] += [pageObj[j].extractText() for j in range(len(files))]\n",
    "        if count[j] == num_pages[j] and j <=:\n",
    "            j += 1"
   ]
  },
  {
   "cell_type": "code",
   "execution_count": 26,
   "metadata": {},
   "outputs": [],
   "source": [
    "import re\n",
    "regex = '\\w+uncertainty\\w'\n",
    "extracting = [[re.search(regex, text[i][j].lower()) for i in range(len(files)) for j in range(len(text[i]))]]"
   ]
  },
  {
   "cell_type": "markdown",
   "metadata": {},
   "source": [
    "# Table"
   ]
  },
  {
   "cell_type": "code",
   "execution_count": 93,
   "metadata": {},
   "outputs": [
    {
     "data": {
      "text/plain": [
       "[\"376A.BhaduriandS.MarglinunderlyingTheGeneralTheory(e.g.Solow,1987).Similarly,Kalecki'scost-determinedpricesleavelittlescopeforexogenousvariationsintherealwagerate,insofarasthepriceleveiandthemoneywageleveimaintainaroughlyproportionalrelationship,throughthepostulateofwhatHicks(1974)called'thewagetheorem'.lnthispaper,wedepartfromthistraditionoftreatingtherealwagerateasanendogenousvariablefortworeasons.First,inordertoexaminetheconnectionbetweenrealwageandunemploymentitisnecessarytoperformatleast'thoughtexperiments'basedonexogenousvariationsintherealwagerate.Second,asweshalllaterargue(inSection3),inanopeneconomyexogenousvariationsintherealwageratemaybecomefeasiblethroughsuchpoliciesasadjustmentintheexchangerate.Thus,inSection2ofthispaper,wesetoutthebasicmodelofexogenousrealwagevariationinthecontextofaclosedeconomy.Section3extendsthis.modeltothemoreplausiblecontextofanopeneconomy.ThefinalSection4providessomeconcludingcommentsandobservationsonboththelimitationsandthepotentialitiesofthepresentanalysisinthecourseofsummarisingthemainargumento2.Theclosedeconomylnaneconomywithoutsignificantforeigntradeandeconomicactivitybythegovemment,privatefinalexpenditureonconsumptionandoninvestmentarethetwomaincomponentsofaggregatedemandoConsequently,therearetwodistinctwaystoexpandaggregatedemandandoutput-throughexpandingprivateconsumptionandbystimulatingprivateinvestment.The'underconsumptionist'view,whichpredatesevenMarx,emphasisedtheneedtomaintainadequateprivateconsumptionexpenditurethroughapolicyofhigh(real)wages.'Keynes(1936)distancedhimselffromthestrictlyunderconsumptionistpositioninsofarasherecognisedthatstirnulatinginvestment,especiallypublicinvestment,couldprovideanaltemativemethodofexpandingaggregatedemandandoutput.ContrastinghisownviewsfromthoseoftheearlierunderconsumptionistslikeMalthusandSismondi,hewrites:PracticallyIonlydifferfromtheseschoolsofthoughtinth™nkingthattheymaylayalittletoomuchemphasisonincreasedconsumptionatatimewhenthereisstillmuchsocialadvantagetobeobtainedfromincreasedinvestment.Theoretically,however,theyareopentothecriticismofneglectingthefactthattherearetwowaystoexpandoutput(Keynes,1936,p.325;emphasisinoriginal).Ourfirstanalyticaltaskinthispaperistoshowhowthese'twowaystoexpandoutput'emergequitenaturallythroughareconstructionoftheIS-curve,ifexogenousvariationsintherealwagearepermitted.ThealgebraicargumentiskeptsimplebyassumingthataconstantfractionC1>s>O)ofprofitandnowageissaved.lnthisprimitivemodelworkersownnopropertyandtheentirepropertyincomegoestothecapitalistsintheformofIWegiveoneexample,aresolutionof1817byLeicesterframework-knitters,predatingthepublicationofMarx'sfustvolumeofCapital(1867)byfiftyyears:'ThatinproportionastheReductionofWagesmakesthegreatBodyofPeoplepoorandwretched,inthesameproportionmusttheconsumptionofourmanufacturersbelessened.ThatifliberalwagesweregiventotheMechanicsingeneralthroughouttheCountry,theHomeConsump-tionofourManufacturerswouldbeimmediatelymorethandoubledandconsequentlyeveryhandwouldsoonfindfullemployment.ThattoReducetheWageoftheMechanicoftheCountry50IowthathecannotIivebyhislabour,inordertoundersellForeignManufactUrersinaForeignMarket,istogainonecustomerabroadandlosetwoathome...'(quotedinThompson,1963,p.206).\",\n",
       " \"Cambridge Journal of Economics 1979, 3, 1-14Stagnation theory and stagnation policyJosef Steindl*Following the traditions of Kalecki and Keynes, we are led to believe that a high long-term rate of growth is necessary to establish an adequate use of capacity and fullemployment, because somehow our economy is rather inflexibly adjusted to such highlong-term rates of growth. In this line is Harrod's theory (Harrod, 1939, 1948), as wellas my own Maturity and Stagnation (Steindl, 1952). Both explain the secular depression ofthe pre-war decade in these terms: the economy is unable to adjust to low growth ratesbecause its savings propensity is adapted to a high one.From this point of view it is not, in principle, difficult to understand how the pre-warconditions of under-use of resources were avoided after the last war; a very high long-term rate of growth imposed by certain favourable exogenous conditions on thepost-war economy made it work.In the course of the 1970s we have entered a new era, dominated by the convictionthat in the future the long-term rate of growth is going to be much lowerŠor that itshould be lower or must be lowerŠa belief which in the nature of things carries a greatdeal of self-fulfillment within it. In consequence, under-use of resources already existson a large scale. Thus the climate has changed twice: from the pre-war depression to thepost-war high growth period of the 1950s and 1960s, and from that back again to theperiod of stunted growth in the 1970s. The two periodsŠhigh growth and stuntedgrowthŠrequire an explanation which links one to the other and reconciles them withthe model of development before World War II which I used in Maturity and Stagnation.Before I try to do that in the second part of the paper, I want to deal with some aspectsof my maturity theory which are related to well known ideas in the contemporaryliterature. Perhaps some of my concepts will become easier to understand in this way,and in any event I shall have a formal apparatus to serve me in dealing with the difficultproblems of the post-war scene.1. The maturity theoremHarrod's equation of 1939 implies a kind of maturity theorem, although he did not usethis word. I shall write his equation in a slightly modified form, putting:Y = gross product in real terms,T* = capacity production in real terms,* Honorary Professor, University of Vienna; Consultant, Austrian Institute of Economic Research. Thispaper is based on a lecture given at the University of Groningen, Holland, in March 1977. I want to thankProfessor Amit Bhaduri and Professor K. Laski for criticism and advice in adapting it for publication.0309-166X/79/010001 + 14 802.00/0 © 1979 Academic Press Inc. (London) Limited\"]"
      ]
     },
     "execution_count": 93,
     "metadata": {},
     "output_type": "execute_result"
    }
   ],
   "source": [
    "text[1]"
   ]
  },
  {
   "cell_type": "code",
   "execution_count": 84,
   "metadata": {},
   "outputs": [
    {
     "data": {
      "text/plain": [
       "[[None, None]]"
      ]
     },
     "execution_count": 84,
     "metadata": {},
     "output_type": "execute_result"
    }
   ],
   "source": [
    "extracting"
   ]
  }
 ],
 "metadata": {
  "kernelspec": {
   "display_name": "Python 3",
   "language": "python",
   "name": "python3"
  },
  "language_info": {
   "codemirror_mode": {
    "name": "ipython",
    "version": 3
   },
   "file_extension": ".py",
   "mimetype": "text/x-python",
   "name": "python",
   "nbconvert_exporter": "python",
   "pygments_lexer": "ipython3",
   "version": "3.7.2"
  }
 },
 "nbformat": 4,
 "nbformat_minor": 2
}
