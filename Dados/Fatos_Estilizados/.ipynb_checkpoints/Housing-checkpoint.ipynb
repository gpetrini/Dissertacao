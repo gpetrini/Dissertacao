{
 "cells": [
  {
   "cell_type": "markdown",
   "metadata": {},
   "source": [
    "# Importing libraries"
   ]
  },
  {
   "cell_type": "code",
   "execution_count": 1,
   "metadata": {},
   "outputs": [],
   "source": [
    "import requests\n",
    "import pandas as pd\n",
    "from datetime import datetime\n",
    "import numpy as np\n",
    "import APIs\n",
    "import matplotlib.pyplot as plt\n",
    "import seaborn as sns\n",
    "sns.set_context('paper')\n",
    "import plotly.plotly as py\n",
    "import plotly.graph_objs as go\n",
    "%matplotlib inline\n",
    "%config InlineBackend.figure_format='retina'\n",
    "fred_key = APIs.fred_api"
   ]
  },
  {
   "cell_type": "markdown",
   "metadata": {},
   "source": [
    "Defining function to get fred data: fredData"
   ]
  },
  {
   "cell_type": "code",
   "execution_count": 2,
   "metadata": {},
   "outputs": [
    {
     "data": {
      "text/plain": [
       "'\\n# usage \\ndf = fredData(request_dict=q_dict, start_date=start_date, end_date=end_date, api_key=fred_key)\\ndf\\n'"
      ]
     },
     "execution_count": 2,
     "metadata": {},
     "output_type": "execute_result"
    }
   ],
   "source": [
    "def fredData(request_dict, start_date, end_date, api_key, freq = 'Q'):\n",
    "    \"\"\" download some data from fred \"\"\"\n",
    "    import pandas as pd\n",
    "    import numpy as np\n",
    "    import requests\n",
    "    base = 'https://api.stlouisfed.org/fred/series/observations?series_id='\n",
    "    dates = '&observation_start={}&observation_end={}'.format(start_date, end_date)\n",
    "    api_key = '&api_key={}'.format(api_key)\n",
    "    ftype = '&file_type=json'\n",
    "    \n",
    "    dataFrame = pd.DataFrame()\n",
    "    for code, name in request_dict.items():\n",
    "        url = '{}{}{}{}{}'.format(base, code, dates, api_key, ftype)\n",
    "        r = requests.get(url).json()['observations']\n",
    "        dataFrame[name[0]] = [i['value'] for i in r]\n",
    "\n",
    "    dataFrame = dataFrame.replace('.', np.nan)    \n",
    "    dataFrame = dataFrame.astype(float)\n",
    "\n",
    "    sectors = pd.MultiIndex.from_tuples(list(zip([i[1] for i in request_dict.values()],[i[0] for i in request_dict.values()])))\n",
    "    dataFrame.columns = sectors\n",
    "\n",
    "    dates = pd.date_range(start_date, periods=dataFrame.shape[0], freq=freq)\n",
    "    dataFrame.index = dates\n",
    "    return dataFrame\n",
    "\n",
    "\"\"\"\n",
    "# usage \n",
    "df = fredData(request_dict=q_dict, start_date=start_date, end_date=end_date, api_key=fred_key)\n",
    "df\n",
    "\"\"\""
   ]
  },
  {
   "cell_type": "markdown",
   "metadata": {},
   "source": [
    "# Quarterly data"
   ]
  },
  {
   "cell_type": "code",
   "execution_count": 3,
   "metadata": {},
   "outputs": [],
   "source": [
    "q_dict = {\n",
    "    'MSPUS' : ['Median Sales Price', 'Houses Sold', 'United States'],\n",
    "    'USSTHPI' : ['All-Transactions', 'House Price Index', 'United States', '1980Q1 = 100'],\n",
    "    'MDSP' : ['Mortgage Debt Service Payments as a Percent of Disposable Personal Income', 'Mortgage'],\n",
    "    'HHMSDODNS' : ['Liability, Level', 'Mortgage', 'Households and Nonprofit Organizations'],\n",
    "    'CCDIHBQ156N' : ['CredAbility Consumer Distress Index', 'Household', 'Household Budget (DISCONTINUED)'],\n",
    "}\n",
    "\n",
    "quarterly = fredData(request_dict=q_dict, start_date='1980-01-01', end_date='2010-12-01', api_key=fred_key)"
   ]
  },
  {
   "cell_type": "code",
   "execution_count": 4,
   "metadata": {},
   "outputs": [
    {
     "data": {
      "text/html": [
       "<div>\n",
       "<style scoped>\n",
       "    .dataframe tbody tr th:only-of-type {\n",
       "        vertical-align: middle;\n",
       "    }\n",
       "\n",
       "    .dataframe tbody tr th {\n",
       "        vertical-align: top;\n",
       "    }\n",
       "\n",
       "    .dataframe thead tr th {\n",
       "        text-align: left;\n",
       "    }\n",
       "</style>\n",
       "<table border=\"1\" class=\"dataframe\">\n",
       "  <thead>\n",
       "    <tr>\n",
       "      <th></th>\n",
       "      <th>Houses Sold</th>\n",
       "      <th>House Price Index</th>\n",
       "      <th colspan=\"2\" halign=\"left\">Mortgage</th>\n",
       "      <th>Household</th>\n",
       "    </tr>\n",
       "    <tr>\n",
       "      <th></th>\n",
       "      <th>Median Sales Price</th>\n",
       "      <th>All-Transactions</th>\n",
       "      <th>Mortgage Debt Service Payments as a Percent of Disposable Personal Income</th>\n",
       "      <th>Liability, Level</th>\n",
       "      <th>CredAbility Consumer Distress Index</th>\n",
       "    </tr>\n",
       "  </thead>\n",
       "  <tbody>\n",
       "    <tr>\n",
       "      <th>1980-03-31</th>\n",
       "      <td>63700.0</td>\n",
       "      <td>100.00</td>\n",
       "      <td>4.375714</td>\n",
       "      <td>860.063</td>\n",
       "      <td>83.422332</td>\n",
       "    </tr>\n",
       "    <tr>\n",
       "      <th>1980-06-30</th>\n",
       "      <td>64000.0</td>\n",
       "      <td>101.55</td>\n",
       "      <td>4.484928</td>\n",
       "      <td>875.720</td>\n",
       "      <td>80.737954</td>\n",
       "    </tr>\n",
       "    <tr>\n",
       "      <th>1980-09-30</th>\n",
       "      <td>64900.0</td>\n",
       "      <td>104.48</td>\n",
       "      <td>4.493386</td>\n",
       "      <td>900.209</td>\n",
       "      <td>85.124147</td>\n",
       "    </tr>\n",
       "    <tr>\n",
       "      <th>1980-12-31</th>\n",
       "      <td>66400.0</td>\n",
       "      <td>104.75</td>\n",
       "      <td>4.512131</td>\n",
       "      <td>926.526</td>\n",
       "      <td>86.067316</td>\n",
       "    </tr>\n",
       "    <tr>\n",
       "      <th>1981-03-31</th>\n",
       "      <td>66800.0</td>\n",
       "      <td>105.32</td>\n",
       "      <td>4.596082</td>\n",
       "      <td>944.614</td>\n",
       "      <td>84.385455</td>\n",
       "    </tr>\n",
       "  </tbody>\n",
       "</table>\n",
       "</div>"
      ],
      "text/plain": [
       "                  Houses Sold House Price Index  \\\n",
       "           Median Sales Price  All-Transactions   \n",
       "1980-03-31            63700.0            100.00   \n",
       "1980-06-30            64000.0            101.55   \n",
       "1980-09-30            64900.0            104.48   \n",
       "1980-12-31            66400.0            104.75   \n",
       "1981-03-31            66800.0            105.32   \n",
       "\n",
       "                                                                            Mortgage  \\\n",
       "           Mortgage Debt Service Payments as a Percent of Disposable Personal Income   \n",
       "1980-03-31                                           4.375714                          \n",
       "1980-06-30                                           4.484928                          \n",
       "1980-09-30                                           4.493386                          \n",
       "1980-12-31                                           4.512131                          \n",
       "1981-03-31                                           4.596082                          \n",
       "\n",
       "                                                      Household  \n",
       "           Liability, Level CredAbility Consumer Distress Index  \n",
       "1980-03-31          860.063                           83.422332  \n",
       "1980-06-30          875.720                           80.737954  \n",
       "1980-09-30          900.209                           85.124147  \n",
       "1980-12-31          926.526                           86.067316  \n",
       "1981-03-31          944.614                           84.385455  "
      ]
     },
     "execution_count": 4,
     "metadata": {},
     "output_type": "execute_result"
    }
   ],
   "source": [
    "quarterly.head()"
   ]
  },
  {
   "cell_type": "markdown",
   "metadata": {},
   "source": [
    "# Monthly"
   ]
  },
  {
   "cell_type": "code",
   "execution_count": 5,
   "metadata": {},
   "outputs": [],
   "source": [
    "m_dict = {\n",
    "    'CSUSHPINSA' : ['Case-Shiller U.S.', 'National Home Price Index', 'S&P'],\n",
    "    'MORTG' : ['30-Year Mortgage Rate', 'Conventional Mortgage Rate', 'DISCONTINUED'],\n",
    "}\n",
    "\n",
    "monthly = fredData(request_dict=m_dict, start_date='1987-01-01', end_date='2015-12-01', api_key=fred_key, freq='M')"
   ]
  },
  {
   "cell_type": "code",
   "execution_count": 6,
   "metadata": {},
   "outputs": [
    {
     "data": {
      "text/html": [
       "<div>\n",
       "<style scoped>\n",
       "    .dataframe tbody tr th:only-of-type {\n",
       "        vertical-align: middle;\n",
       "    }\n",
       "\n",
       "    .dataframe tbody tr th {\n",
       "        vertical-align: top;\n",
       "    }\n",
       "\n",
       "    .dataframe thead tr th {\n",
       "        text-align: left;\n",
       "    }\n",
       "</style>\n",
       "<table border=\"1\" class=\"dataframe\">\n",
       "  <thead>\n",
       "    <tr>\n",
       "      <th></th>\n",
       "      <th>National Home Price Index</th>\n",
       "      <th>Conventional Mortgage Rate</th>\n",
       "    </tr>\n",
       "    <tr>\n",
       "      <th></th>\n",
       "      <th>Case-Shiller U.S.</th>\n",
       "      <th>30-Year Mortgage Rate</th>\n",
       "    </tr>\n",
       "  </thead>\n",
       "  <tbody>\n",
       "    <tr>\n",
       "      <th>1987-01-31</th>\n",
       "      <td>-0.36247</td>\n",
       "      <td>0.0920</td>\n",
       "    </tr>\n",
       "    <tr>\n",
       "      <th>1987-02-28</th>\n",
       "      <td>-0.35847</td>\n",
       "      <td>0.0908</td>\n",
       "    </tr>\n",
       "    <tr>\n",
       "      <th>1987-03-31</th>\n",
       "      <td>-0.35510</td>\n",
       "      <td>0.0904</td>\n",
       "    </tr>\n",
       "    <tr>\n",
       "      <th>1987-04-30</th>\n",
       "      <td>-0.35005</td>\n",
       "      <td>0.0983</td>\n",
       "    </tr>\n",
       "    <tr>\n",
       "      <th>1987-05-31</th>\n",
       "      <td>-0.34430</td>\n",
       "      <td>0.1060</td>\n",
       "    </tr>\n",
       "  </tbody>\n",
       "</table>\n",
       "</div>"
      ],
      "text/plain": [
       "           National Home Price Index Conventional Mortgage Rate\n",
       "                   Case-Shiller U.S.      30-Year Mortgage Rate\n",
       "1987-01-31                  -0.36247                     0.0920\n",
       "1987-02-28                  -0.35847                     0.0908\n",
       "1987-03-31                  -0.35510                     0.0904\n",
       "1987-04-30                  -0.35005                     0.0983\n",
       "1987-05-31                  -0.34430                     0.1060"
      ]
     },
     "execution_count": 6,
     "metadata": {},
     "output_type": "execute_result"
    }
   ],
   "source": [
    "monthly['Conventional Mortgage Rate','30-Year Mortgage Rate'] = monthly['Conventional Mortgage Rate','30-Year Mortgage Rate'].apply(lambda x:x/100)\n",
    "monthly['National Home Price Index','Case-Shiller U.S.'] = monthly['National Home Price Index','Case-Shiller U.S.'].apply(lambda x:x/100 - 1)\n",
    "monthly.head()"
   ]
  },
  {
   "cell_type": "markdown",
   "metadata": {},
   "source": [
    "## Own interest rate"
   ]
  },
  {
   "cell_type": "markdown",
   "metadata": {},
   "source": [
    "Own interest rate based on Teixeira (2015, 53):\n",
    "    \n",
    "$$\n",
    "r_{pi} = \\frac{1+i_{\\text{mortgage}}}{1+\\pi_{\\text{House}}} -1\n",
    "$$"
   ]
  },
  {
   "cell_type": "code",
   "execution_count": 7,
   "metadata": {},
   "outputs": [],
   "source": [
    "imortg = [i + 1 for i in monthly['Conventional Mortgage Rate']['30-Year Mortgage Rate']]\n",
    "pihouse = [i + 1 for i in monthly['National Home Price Index']['Case-Shiller U.S.']]\n",
    "rip = [imortg[i]/pihouse[i] -1 for i in range(len(pihouse))]"
   ]
  },
  {
   "cell_type": "code",
   "execution_count": 8,
   "metadata": {},
   "outputs": [],
   "source": [
    "month_self_dict = {\n",
    "    'Own interest rate' : rip\n",
    "}\n",
    "month_self = pd.DataFrame(month_self_dict)\n",
    "month_self.index = monthly.index\n",
    "sectors = pd.MultiIndex.from_tuples(list(zip(['Self Elaboration' for i in month_self_dict.keys()],[i for i in month_self_dict.keys()])))\n",
    "month_self.columns = sectors"
   ]
  },
  {
   "cell_type": "code",
   "execution_count": 9,
   "metadata": {},
   "outputs": [
    {
     "data": {
      "text/html": [
       "<div>\n",
       "<style scoped>\n",
       "    .dataframe tbody tr th:only-of-type {\n",
       "        vertical-align: middle;\n",
       "    }\n",
       "\n",
       "    .dataframe tbody tr th {\n",
       "        vertical-align: top;\n",
       "    }\n",
       "\n",
       "    .dataframe thead tr th {\n",
       "        text-align: left;\n",
       "    }\n",
       "</style>\n",
       "<table border=\"1\" class=\"dataframe\">\n",
       "  <thead>\n",
       "    <tr>\n",
       "      <th></th>\n",
       "      <th>Self Elaboration</th>\n",
       "    </tr>\n",
       "    <tr>\n",
       "      <th></th>\n",
       "      <th>Own interest rate</th>\n",
       "    </tr>\n",
       "  </thead>\n",
       "  <tbody>\n",
       "    <tr>\n",
       "      <th>1987-01-31</th>\n",
       "      <td>0.712861</td>\n",
       "    </tr>\n",
       "    <tr>\n",
       "      <th>1987-02-28</th>\n",
       "      <td>0.700310</td>\n",
       "    </tr>\n",
       "    <tr>\n",
       "      <th>1987-03-31</th>\n",
       "      <td>0.690805</td>\n",
       "    </tr>\n",
       "    <tr>\n",
       "      <th>1987-04-30</th>\n",
       "      <td>0.689822</td>\n",
       "    </tr>\n",
       "    <tr>\n",
       "      <th>1987-05-31</th>\n",
       "      <td>0.686747</td>\n",
       "    </tr>\n",
       "  </tbody>\n",
       "</table>\n",
       "</div>"
      ],
      "text/plain": [
       "            Self Elaboration\n",
       "           Own interest rate\n",
       "1987-01-31          0.712861\n",
       "1987-02-28          0.700310\n",
       "1987-03-31          0.690805\n",
       "1987-04-30          0.689822\n",
       "1987-05-31          0.686747"
      ]
     },
     "execution_count": 9,
     "metadata": {},
     "output_type": "execute_result"
    }
   ],
   "source": [
    "month_self.head()"
   ]
  },
  {
   "cell_type": "code",
   "execution_count": 10,
   "metadata": {
    "scrolled": true
   },
   "outputs": [
    {
     "data": {
      "text/html": [
       "<div>\n",
       "<style scoped>\n",
       "    .dataframe tbody tr th:only-of-type {\n",
       "        vertical-align: middle;\n",
       "    }\n",
       "\n",
       "    .dataframe tbody tr th {\n",
       "        vertical-align: top;\n",
       "    }\n",
       "\n",
       "    .dataframe thead tr th {\n",
       "        text-align: left;\n",
       "    }\n",
       "</style>\n",
       "<table border=\"1\" class=\"dataframe\">\n",
       "  <thead>\n",
       "    <tr>\n",
       "      <th></th>\n",
       "      <th>National Home Price Index</th>\n",
       "      <th>Conventional Mortgage Rate</th>\n",
       "      <th>Self Elaboration</th>\n",
       "    </tr>\n",
       "    <tr>\n",
       "      <th></th>\n",
       "      <th>Case-Shiller U.S.</th>\n",
       "      <th>30-Year Mortgage Rate</th>\n",
       "      <th>Own interest rate</th>\n",
       "    </tr>\n",
       "  </thead>\n",
       "  <tbody>\n",
       "    <tr>\n",
       "      <th>1987-01-31</th>\n",
       "      <td>-0.36247</td>\n",
       "      <td>0.0920</td>\n",
       "      <td>0.712861</td>\n",
       "    </tr>\n",
       "    <tr>\n",
       "      <th>1987-02-28</th>\n",
       "      <td>-0.35847</td>\n",
       "      <td>0.0908</td>\n",
       "      <td>0.700310</td>\n",
       "    </tr>\n",
       "    <tr>\n",
       "      <th>1987-03-31</th>\n",
       "      <td>-0.35510</td>\n",
       "      <td>0.0904</td>\n",
       "      <td>0.690805</td>\n",
       "    </tr>\n",
       "    <tr>\n",
       "      <th>1987-04-30</th>\n",
       "      <td>-0.35005</td>\n",
       "      <td>0.0983</td>\n",
       "      <td>0.689822</td>\n",
       "    </tr>\n",
       "    <tr>\n",
       "      <th>1987-05-31</th>\n",
       "      <td>-0.34430</td>\n",
       "      <td>0.1060</td>\n",
       "      <td>0.686747</td>\n",
       "    </tr>\n",
       "  </tbody>\n",
       "</table>\n",
       "</div>"
      ],
      "text/plain": [
       "           National Home Price Index Conventional Mortgage Rate  \\\n",
       "                   Case-Shiller U.S.      30-Year Mortgage Rate   \n",
       "1987-01-31                  -0.36247                     0.0920   \n",
       "1987-02-28                  -0.35847                     0.0908   \n",
       "1987-03-31                  -0.35510                     0.0904   \n",
       "1987-04-30                  -0.35005                     0.0983   \n",
       "1987-05-31                  -0.34430                     0.1060   \n",
       "\n",
       "            Self Elaboration  \n",
       "           Own interest rate  \n",
       "1987-01-31          0.712861  \n",
       "1987-02-28          0.700310  \n",
       "1987-03-31          0.690805  \n",
       "1987-04-30          0.689822  \n",
       "1987-05-31          0.686747  "
      ]
     },
     "execution_count": 10,
     "metadata": {},
     "output_type": "execute_result"
    }
   ],
   "source": [
    "dfmonth = pd.concat([monthly, month_self], axis=1)\n",
    "dfmonth.head()"
   ]
  },
  {
   "cell_type": "markdown",
   "metadata": {},
   "source": [
    "# Weekly"
   ]
  },
  {
   "cell_type": "code",
   "execution_count": 11,
   "metadata": {},
   "outputs": [],
   "source": [
    "w_dict = {\n",
    "    'MORTGAGE30US' : ['30-Year Fixed Rate', 'Mortgage Average in the United States']\n",
    "}\n",
    "\n",
    "weekly = fredData(request_dict=w_dict, start_date='1985-01-01', end_date='2015-01-01', api_key=fred_key, freq='W')"
   ]
  },
  {
   "cell_type": "code",
   "execution_count": 12,
   "metadata": {},
   "outputs": [
    {
     "data": {
      "text/html": [
       "<div>\n",
       "<style scoped>\n",
       "    .dataframe tbody tr th:only-of-type {\n",
       "        vertical-align: middle;\n",
       "    }\n",
       "\n",
       "    .dataframe tbody tr th {\n",
       "        vertical-align: top;\n",
       "    }\n",
       "\n",
       "    .dataframe thead tr th {\n",
       "        text-align: left;\n",
       "    }\n",
       "</style>\n",
       "<table border=\"1\" class=\"dataframe\">\n",
       "  <thead>\n",
       "    <tr>\n",
       "      <th></th>\n",
       "      <th>Mortgage Average in the United States</th>\n",
       "    </tr>\n",
       "    <tr>\n",
       "      <th></th>\n",
       "      <th>30-Year Fixed Rate</th>\n",
       "    </tr>\n",
       "  </thead>\n",
       "  <tbody>\n",
       "    <tr>\n",
       "      <th>1985-01-06</th>\n",
       "      <td>0.1310</td>\n",
       "    </tr>\n",
       "    <tr>\n",
       "      <th>1985-01-13</th>\n",
       "      <td>0.1312</td>\n",
       "    </tr>\n",
       "    <tr>\n",
       "      <th>1985-01-20</th>\n",
       "      <td>0.1312</td>\n",
       "    </tr>\n",
       "    <tr>\n",
       "      <th>1985-01-27</th>\n",
       "      <td>0.1296</td>\n",
       "    </tr>\n",
       "    <tr>\n",
       "      <th>1985-02-03</th>\n",
       "      <td>0.1293</td>\n",
       "    </tr>\n",
       "  </tbody>\n",
       "</table>\n",
       "</div>"
      ],
      "text/plain": [
       "           Mortgage Average in the United States\n",
       "                              30-Year Fixed Rate\n",
       "1985-01-06                                0.1310\n",
       "1985-01-13                                0.1312\n",
       "1985-01-20                                0.1312\n",
       "1985-01-27                                0.1296\n",
       "1985-02-03                                0.1293"
      ]
     },
     "execution_count": 12,
     "metadata": {},
     "output_type": "execute_result"
    }
   ],
   "source": [
    "weekly['Mortgage Average in the United States']['30-Year Fixed Rate'] = weekly['Mortgage Average in the United States']['30-Year Fixed Rate'].map(lambda x: x/100)\n",
    "weekly.head()"
   ]
  },
  {
   "cell_type": "markdown",
   "metadata": {},
   "source": [
    "# Plots"
   ]
  },
  {
   "cell_type": "code",
   "execution_count": 13,
   "metadata": {
    "scrolled": true
   },
   "outputs": [
    {
     "data": {
      "image/png": "[encoded data removed]",
      "text/plain": [
       "<Figure size 432x288 with 1 Axes>"
      ]
     },
     "metadata": {
      "image/png": {
       "height": 251,
       "width": 381
      },
      "needs_background": "light"
     },
     "output_type": "display_data"
    }
   ],
   "source": [
    "dfmonth['Self Elaboration']['Own interest rate'].plot()\n",
    "sns.despine()\n",
    "plt.show()"
   ]
  }
 ],
 "metadata": {
  "kernelspec": {
   "display_name": "Python 3",
   "language": "python",
   "name": "python3"
  },
  "language_info": {
   "codemirror_mode": {
    "name": "ipython",
    "version": 3
   },
   "file_extension": ".py",
   "mimetype": "text/x-python",
   "name": "python",
   "nbconvert_exporter": "python",
   "pygments_lexer": "ipython3",
   "version": "3.7.2"
  }
 },
 "nbformat": 4,
 "nbformat_minor": 2
}
