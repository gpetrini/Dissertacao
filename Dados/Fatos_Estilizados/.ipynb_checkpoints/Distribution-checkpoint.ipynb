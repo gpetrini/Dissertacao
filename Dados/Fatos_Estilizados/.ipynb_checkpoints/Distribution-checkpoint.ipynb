{
 "cells": [
  {
   "cell_type": "markdown",
   "metadata": {},
   "source": [
    "# Importing packages"
   ]
  },
  {
   "cell_type": "code",
   "execution_count": 1,
   "metadata": {},
   "outputs": [],
   "source": [
    "import pandas as pd\n",
    "import matplotlib.pyplot as plt\n",
    "import seaborn as sns\n",
    "import pandas_datareader.data as web\n",
    "import datetime\n",
    "%matplotlib inline"
   ]
  },
  {
   "cell_type": "markdown",
   "metadata": {},
   "source": [
    "Defining start and end dates"
   ]
  },
  {
   "cell_type": "code",
   "execution_count": 2,
   "metadata": {},
   "outputs": [],
   "source": [
    "start = datetime.datetime(1960,1,1)\n",
    "end = datetime.datetime(2016,1,1)"
   ]
  },
  {
   "cell_type": "markdown",
   "metadata": {},
   "source": [
    "Importing data"
   ]
  },
  {
   "cell_type": "code",
   "execution_count": 3,
   "metadata": {},
   "outputs": [
    {
     "data": {
      "text/html": [
       "<div>\n",
       "<style scoped>\n",
       "    .dataframe tbody tr th:only-of-type {\n",
       "        vertical-align: middle;\n",
       "    }\n",
       "\n",
       "    .dataframe tbody tr th {\n",
       "        vertical-align: top;\n",
       "    }\n",
       "\n",
       "    .dataframe thead th {\n",
       "        text-align: right;\n",
       "    }\n",
       "</style>\n",
       "<table border=\"1\" class=\"dataframe\">\n",
       "  <thead>\n",
       "    <tr style=\"text-align: right;\">\n",
       "      <th></th>\n",
       "      <th>Wage Share</th>\n",
       "      <th>Long-term bonds</th>\n",
       "      <th>Profit Share after tax</th>\n",
       "      <th>Profit Share</th>\n",
       "    </tr>\n",
       "    <tr>\n",
       "      <th>DATE</th>\n",
       "      <th></th>\n",
       "      <th></th>\n",
       "      <th></th>\n",
       "      <th></th>\n",
       "    </tr>\n",
       "  </thead>\n",
       "  <tbody>\n",
       "    <tr>\n",
       "      <th>1960-01-01</th>\n",
       "      <td>0.646128</td>\n",
       "      <td>0.040150</td>\n",
       "      <td>0.055</td>\n",
       "      <td>0.353872</td>\n",
       "    </tr>\n",
       "    <tr>\n",
       "      <th>1961-01-01</th>\n",
       "      <td>0.643108</td>\n",
       "      <td>0.039025</td>\n",
       "      <td>0.054</td>\n",
       "      <td>0.356892</td>\n",
       "    </tr>\n",
       "    <tr>\n",
       "      <th>1962-01-01</th>\n",
       "      <td>0.638176</td>\n",
       "      <td>0.039508</td>\n",
       "      <td>0.061</td>\n",
       "      <td>0.361824</td>\n",
       "    </tr>\n",
       "    <tr>\n",
       "      <th>1963-01-01</th>\n",
       "      <td>0.635656</td>\n",
       "      <td>0.040017</td>\n",
       "      <td>0.064</td>\n",
       "      <td>0.364344</td>\n",
       "    </tr>\n",
       "    <tr>\n",
       "      <th>1964-01-01</th>\n",
       "      <td>0.633658</td>\n",
       "      <td>0.041508</td>\n",
       "      <td>0.068</td>\n",
       "      <td>0.366342</td>\n",
       "    </tr>\n",
       "  </tbody>\n",
       "</table>\n",
       "</div>"
      ],
      "text/plain": [
       "            Wage Share  Long-term bonds  Profit Share after tax  Profit Share\n",
       "DATE                                                                         \n",
       "1960-01-01    0.646128         0.040150                   0.055      0.353872\n",
       "1961-01-01    0.643108         0.039025                   0.054      0.356892\n",
       "1962-01-01    0.638176         0.039508                   0.061      0.361824\n",
       "1963-01-01    0.635656         0.040017                   0.064      0.364344\n",
       "1964-01-01    0.633658         0.041508                   0.068      0.366342"
      ]
     },
     "execution_count": 3,
     "metadata": {},
     "output_type": "execute_result"
    }
   ],
   "source": [
    "df = web.DataReader(['LABSHPUSA156NRUG', 'IRLTCT01USA156N', 'W273RE1A156NBEA'], 'fred', start, end)\n",
    "df.columns = ['Wage Share', 'Long-term bonds', 'Profit Share after tax']\n",
    "df['Profit Share'] = df['Wage Share'].apply(lambda x: 1-x)\n",
    "df['Long-term bonds'] = df['Long-term bonds'].divide(100)\n",
    "df['Profit Share after tax'] = df['Profit Share after tax'].divide(100)\n",
    "df.head()"
   ]
  },
  {
   "cell_type": "markdown",
   "metadata": {},
   "source": [
    "Defining Capital-Output ratio as $v=2 \\Rightarrow R = 1/2$"
   ]
  },
  {
   "cell_type": "code",
   "execution_count": 4,
   "metadata": {},
   "outputs": [],
   "source": [
    "v = 2"
   ]
  },
  {
   "cell_type": "markdown",
   "metadata": {},
   "source": [
    "Calculating Pivetti's proposition:\n",
    "\n",
    "$$\n",
    "1-\\omega = \\frac{i_{LP}}{R}\n",
    "$$"
   ]
  },
  {
   "cell_type": "code",
   "execution_count": 5,
   "metadata": {},
   "outputs": [],
   "source": [
    "df['pivetti'] = df['Long-term bonds']*v"
   ]
  },
  {
   "cell_type": "markdown",
   "metadata": {},
   "source": [
    "Comparing movements in $\\pi$ and in Pivetti's equation"
   ]
  },
  {
   "cell_type": "code",
   "execution_count": 6,
   "metadata": {},
   "outputs": [
    {
     "data": {
      "image/png": "[encoded data removed]",
      "text/plain": [
       "<Figure size 432x288 with 1 Axes>"
      ]
     },
     "metadata": {
      "needs_background": "light"
     },
     "output_type": "display_data"
    }
   ],
   "source": [
    "df[['Profit Share','pivetti']].plot()\n",
    "sns.set_context('paper')\n",
    "sns.despine()\n",
    "plt.show()"
   ]
  },
  {
   "cell_type": "code",
   "execution_count": 7,
   "metadata": {},
   "outputs": [
    {
     "data": {
      "image/png": "[encoded data removed]",
      "text/plain": [
       "<Figure size 432x288 with 1 Axes>"
      ]
     },
     "metadata": {
      "needs_background": "light"
     },
     "output_type": "display_data"
    }
   ],
   "source": [
    "df[['Profit Share after tax','pivetti']].plot()\n",
    "sns.set_context('paper')\n",
    "sns.despine()\n",
    "plt.show()"
   ]
  }
 ],
 "metadata": {
  "kernelspec": {
   "display_name": "Python 3",
   "language": "python",
   "name": "python3"
  },
  "language_info": {
   "codemirror_mode": {
    "name": "ipython",
    "version": 3
   },
   "file_extension": ".py",
   "mimetype": "text/x-python",
   "name": "python",
   "nbconvert_exporter": "python",
   "pygments_lexer": "ipython3",
   "version": "3.7.2"
  }
 },
 "nbformat": 4,
 "nbformat_minor": 2
}
