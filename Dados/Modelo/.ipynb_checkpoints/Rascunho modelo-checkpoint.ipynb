{
 "cells": [
  {
   "cell_type": "markdown",
   "metadata": {},
   "source": [
    "# Hipóteses"
   ]
  },
  {
   "cell_type": "markdown",
   "metadata": {},
   "source": [
    "## Gerais\n",
    "\n",
    "- Economia Fehcada e sem governo\n",
    "- Retornos constantes de escala\n",
    "- Condições técnicas e produtividade constantes\n",
    "- Não existem restrições do mercado de trabalho\n",
    "- Famílias não dividas em classes sociais (simplificação)\n",
    "- Existe apenas inflação de imóveis\n",
    "- Não existe depreciação de imóveis\n",
    "- Exitem quatro setores intitucionais:\n",
    "    + Famílias\n",
    "    + Firmas\n",
    "    + Imobiliário\n",
    "    + Bancos\n",
    "    \n",
    "- Existem apenas três ativos:\n",
    "    + Títulos hipotecários\n",
    "    + Depósitos à vista\n",
    "    + Títulos emitidos pelas empresas"
   ]
  },
  {
   "cell_type": "markdown",
   "metadata": {},
   "source": [
    "## Firmas\n",
    "   \n",
    "- Firmas redistribuem lucros\n",
    "    + Apenas se auferirem lucros\n",
    "\n",
    "- Firmas financiam investimento com lucros retidos (maior parte), empréstimos bancários e emissão de títulos\n",
    "- Firmas ajustam estoque de capital ao crescimento da demanda efetiva (*a lá* supermultiplicador)\n",
    "- Fixam preços por meio de *mark-up*\n",
    "- *Mark-up* é definido exogenamente\n",
    "- Novos empréstimos dependem negativamente da taxa de juros de empréstimos"
   ]
  },
  {
   "cell_type": "markdown",
   "metadata": {},
   "source": [
    "## Famílias\n",
    "\n",
    "- Consumo depende da renda disponível, depósitos, riqueza financeira líquida e rendimentos auferidos pelas residências\n",
    "- Consumo é fianciado por empréstimos bancários\n",
    "- Riqueza imobiliária impacta positivamente o colaterál das famílias, permitindo contrair mais empréstimos\n",
    "- Demanda por imóveis pelas famílias depende negativamente da taxa própria de juros desses títulos\n"
   ]
  },
  {
   "cell_type": "markdown",
   "metadata": {},
   "source": [
    "## Setor imobiliário\n",
    "\n",
    "- Produção de novas resiências se ajusta para atender a demanda \n",
    "- Imóveis não vendidos afetam negativamente tanto a produção quanto os preços"
   ]
  },
  {
   "cell_type": "markdown",
   "metadata": {},
   "source": [
    "## Bancos\n",
    "\n",
    "- Taxa dos depósitos à vista são definidos exogenamente\n",
    "- Bancos concedem empréstimos apenas à agentes suficientemente líquidos\n",
    "- Parcela dos empréstimos não é paga\n",
    "- Ajustam liquidez às imposições intitucionais\n",
    "- Definem taxa de juros de empréstimos como acréscimos da taxa de juros de depósitos à vista\n",
    "- Bancos retém lucros para compensar empréstimos pagos"
   ]
  },
  {
   "cell_type": "markdown",
   "metadata": {},
   "source": [
    "# Matrizes"
   ]
  },
  {
   "cell_type": "markdown",
   "metadata": {},
   "source": [
    "## Balanço Patrimonial"
   ]
  },
  {
   "cell_type": "markdown",
   "metadata": {},
   "source": [
    "![Balanço_Patrimonial](Patrimonial.png)"
   ]
  },
  {
   "cell_type": "markdown",
   "metadata": {},
   "source": [
    "## Matriz de reavaliações"
   ]
  },
  {
   "cell_type": "markdown",
   "metadata": {},
   "source": [
    "![Reavaliacao](Reavaliacao.png)"
   ]
  },
  {
   "cell_type": "markdown",
   "metadata": {},
   "source": [
    "## Matriz de transações"
   ]
  },
  {
   "cell_type": "markdown",
   "metadata": {},
   "source": [
    "![Matriz de transações](Transacao.png)"
   ]
  },
  {
   "cell_type": "markdown",
   "metadata": {},
   "source": [
    "# Equações comportamentais"
   ]
  },
  {
   "cell_type": "markdown",
   "metadata": {},
   "source": [
    "## Variávies\n",
    "\n",
    "- $Bb_d$ Restrição patrimonial dos bancos\n",
    "- $BLR$ Razão de liquidez dos bancos\n",
    "- $BUR$ Custo da dívida das famílias em relação à renda disponível regular\n",
    "- $b$ Produtividade do trabalho\n",
    "- $C$ Consumo\n",
    "- $CAR$ Taxa de adequação do capital\n",
    "- $CG$ Ganhos de Capital\n",
    "- $CG_e$ Ganhos de capital com venda de ações\n",
    "- $CG_m$ Ganhos de capital com venda de imóveis\n",
    "- $Fb$ Lucro total dos bancos\n",
    "- $Ff$ Lucro total das Firmas\n",
    "- $FD_f$ Lucros distribuídos das firmas\n",
    "- $FU_f$ Lucros retido das firmas\n",
    "- $F_{fm}$ Lucros do setor imobiliário\n",
    "- $GL$ Empréstimo pessoal bruto\n",
    "- $g_I$ Taxa de acumulação\n",
    "- $g_{If}$ Taxa de crescimento do investimento produtivo\n",
    "- $g_{Im}$ Taxa de crescimento do investimento residencial\n",
    "- $H^D$ Demanda por imóveis\n",
    "- $H^S$ Oferta de imóveis\n",
    "- $I$ Investimento agregado\n",
    "- $I_f$ Investimento das firmas (Produtivo)\n",
    "- $INL$ Imóveis não vendidos (Alterar nome)\n",
    "- $I_h$ Investimento residencial\n",
    "- $i_m$ Taxa própria de juros dos títulos hipotecários\n",
    "- $K$ Estoque de capital fixo\n",
    "- $K$ Capital imobiliários\n",
    "- $L$ Empréstimos\n",
    "    + $L_f$ Empréstimos às firmas\n",
    "    + $L_h$ Empréstimos às famílias\n",
    "    + $L_m$ Empréstimos hipotecários\n",
    "  \n",
    "- $M$ Depósitos à vista\n",
    "- $m$ Títulos hipotecários\n",
    "- $N$ Trabalho\n",
    "- $NFW_b$ Riqueza financeira líquida dos bancos\n",
    "- $NFW_f$ Riqueza financeira líquida das firmas\n",
    "- $NFW_h$ Riqueza financeira líquida das famílias\n",
    "- $NFW_m$ Riqueza financeira líquida do setor imobiliário\n",
    "- $NL$ Empréstimo pessoal líquido\n",
    "- $NPL$ Empréstimos não pagos\n",
    "- $n$ Crescimento populacional\n",
    "- $npl$ Grau de inadimpência\n",
    "- $OF$ Fundos dos bancos\n",
    "- $p_e$ Preço das ações emitidas pelas firmas\n",
    "- $p_m$ Preço dos títulos hipotecários\n",
    "- $REP$ Empréstimo quitado (Personal loan repayments) REVER\n",
    "- $r_k$ Rendimento dos dividendos das firmas\n",
    "- $r_l$ Taxa de juros dos empréstimos\n",
    "- $r_m$ Taxa de rendimento dos depósitos à vista\n",
    "- $spread$ *spread* sobre a taxa de depósitos\n",
    "- $v$ Relação técnica capital-Produto normal\n",
    "- $V_{fma}$ Ativos de mercado financeiro\n",
    "- $u$ Grau de utilização da capacidade\n",
    "- $W$ Salários\n",
    "- $Y$ Produto\n",
    "- $Y_{fc}$ Produto potencial\n",
    "- $Yh$ Renda das Famílias\n",
    "- $YD_r$ Renda regular disponível das famílias\n",
    "- $YD_{cg}$: Renda disponível com ganhos de capital (Haig-Simons)\n",
    "- $Z$ Gastos autônomos não criadores de capacidade\n",
    "\n",
    "\n",
    "- $\\alpha_1$ Propensão marginal à consumir à partir da renda\n",
    "- $\\alpha_2$ Propensão marginal à consumir à partir da riqueza financeira\n",
    "- $\\beta_m$ Correção expectacional\n",
    "- $\\delta_m$ Taxa de amortização do empréstimo hipotecário\n",
    "- $\\eta$ Razão entre novos empréstimos e renda das famílias\n",
    "- $\\gamma^e$ Taxa de crescimento esperada de imóveis (alterar nome)\n",
    "- $\\gamma_m$ Propensão à especular com imóveis\n",
    "- $\\mu$ Mark-up\n",
    "- $\\omega$ Participação dos salários na renda\n",
    "- $\\pi$ Participação dos lucros na renda\n",
    "- $\\phi$ Valor de entrada no empréstimo imobiliário\n",
    "- $\\pi_m$ Inflação de imóveis\n",
    "- $\\Psi$ Parcela dos lucros distribuídos das firmas"
   ]
  },
  {
   "cell_type": "markdown",
   "metadata": {},
   "source": [
    "## Gerais\n",
    "\n",
    "$$\n",
    "Y = \\min \\{vK, bN\\} \\Rightarrow Y = vK\n",
    "$$\n",
    "\n",
    "$$\n",
    "Y = C + I\n",
    "$$\n",
    "\n",
    "$$\n",
    "W = \\omega Y\n",
    "$$\n",
    "\n",
    "$$\n",
    "\\omega = 1-\\pi\n",
    "$$\n",
    "\n",
    "$$\n",
    "\\pi = \\frac{\\mu}{1+\\mu}\n",
    "$$\n",
    "\n",
    "$$\n",
    "F = Y - W\n",
    "$$\n",
    "\n",
    "$$\n",
    "F = FU_f + Fb \n",
    "$$\n",
    "\n",
    "$$\n",
    "I = I_f + H\n",
    "$$\n",
    "\n",
    "$$\n",
    "Z = H + NL\n",
    "$$\n",
    "\n",
    "$$\n",
    "Y_{fc} = \\frac{K_{-1}}{v}\n",
    "$$\n",
    "\n",
    "$$\n",
    "u = \\frac{Y}{Y_{fc}}\n",
    "$$"
   ]
  },
  {
   "cell_type": "markdown",
   "metadata": {},
   "source": [
    "## Famílias\n",
    "\n",
    "$$\n",
    "Yh = W + FD_f + r_{m_{-1}}\\cdot M \n",
    "$$\n",
    "\n",
    "$$\n",
    "YD_r = Yh - r_{l{-1}}L_{h_{-1}} - i_mL_{m_{-1}}\n",
    "$$\n",
    "\n",
    "$$\n",
    "YD_{cg} = YD_r + CG\n",
    "$$\n",
    "\n",
    "\n",
    "$$\n",
    "CG = CG_m\n",
    "$$\n",
    "\n",
    "\n",
    "$$\n",
    "CG_m = \\Delta p_m - \\delta_m L_{m_{-1}}\n",
    "$$\n",
    "\n",
    "$$\n",
    "C = \\alpha_1(YD_r + NL) + \\alpha_2 NFW_h\n",
    "$$\n",
    "\n",
    "$$\n",
    "H^D = \\Xi + \\gamma_m (1- i_m)H^D_{-1}\n",
    "$$\n",
    "\n",
    "$$\n",
    "i_m = \\frac{1+m}{1+\\pi_m} - 1\n",
    "$$\n",
    "\n",
    "\n",
    "$$\n",
    "\\Delta NFW_h = YD_{cg} - C\n",
    "$$\n",
    "\n",
    "$$\n",
    "GL = \\eta YD_r\n",
    "$$\n",
    "\n",
    "$$\n",
    "\\eta = \\eta_0 -\\eta_rrl\n",
    "$$\n",
    "\n",
    "$$\n",
    "NL = GL\n",
    "$$\n",
    "\n",
    "$$\n",
    "\\Delta L_h = NL  - CG\n",
    "$$\n",
    "\n",
    "$$\n",
    "\\Delta L_m = \\phi p_m + (1-\\delta_m) L_{m_{-1}} \n",
    "$$\n",
    "\n",
    "\n",
    "$$\n",
    "BUR = \\frac{r_{l_{-1}}\\cdot L_{h_{-1}} + i_m\\cdot L_{m_{-1}}}{YDr}\n",
    "$$"
   ]
  },
  {
   "cell_type": "markdown",
   "metadata": {},
   "source": [
    "### Alocação de portfólio\n",
    "\n",
    "$$\n",
    "V_{fma} = M + p_e\\cdot e + p_m\\cdot m \\Leftrightarrow L_h + NFW_h = V_{fma}\n",
    "$$\n",
    "\n",
    "$$\n",
    "r_k = \\frac{FD_f}{e_{-1}\\cdot p_{e_{-1}}}\n",
    "$$\n"
   ]
  },
  {
   "cell_type": "markdown",
   "metadata": {},
   "source": [
    "## Firmas\n",
    "\n",
    "$$\n",
    "I_f = hY\n",
    "$$\n",
    "\n",
    "$$\n",
    "K = K_{-1} + I_f - \\delta K_{-1}\n",
    "$$\n",
    "\n",
    "$$\n",
    "L_f = L_{f_{-1}} + I_f - FU_f - pe\\Delta e\n",
    "$$\n",
    "\n",
    "$$\n",
    "h = h_{-1}\\gamma (u - u_n)\n",
    "$$\n",
    "\n",
    "\n",
    "$$\n",
    "F_f = F - Fb - F_{fm}\n",
    "$$\n",
    "\n",
    "$$\n",
    "FU_f = Ff - FD_f - r_l\\cdot L_{f_{-1}}\n",
    "$$\n",
    "\n",
    "$$\n",
    "FD_f = \\Psi Ff\n",
    "$$\n",
    "\n",
    "$$\n",
    "\\Delta L_f = I - FU_f - \\Delta e \\cdot pe\n",
    "$$"
   ]
  },
  {
   "cell_type": "markdown",
   "metadata": {},
   "source": [
    "## Setor imobiliário\n",
    "\n",
    "$$\n",
    "H^S = (1+\\gamma^e )\\overbrace{(H^S_{-1} - INL_{-1})}^{H^D_{-1}}\n",
    "$$\n",
    "\n",
    "$$\n",
    "\\gamma^e = \\gamma^e_{-1} +\\beta (g_{Ih_{-1}} - \\gamma^e_{-1})\n",
    "$$\n",
    "\n",
    "$$\n",
    "INL = H^S - H^D\n",
    "$$\n",
    "\n",
    "$$\n",
    "\\Delta p_m = ????\n",
    "$$"
   ]
  },
  {
   "cell_type": "markdown",
   "metadata": {},
   "source": [
    "## Bancos\n",
    "\n",
    "$$\n",
    "M^S = M^D\n",
    "$$\n",
    "\n",
    "\n",
    "$$\n",
    "i_m = \\overline i_m\n",
    "$$\n",
    "\n",
    "$$\n",
    "Bb_d = M^S - L_f^S - L_h^S \n",
    "$$\n",
    "\n",
    "$$\n",
    "BLR = \\frac{Bb_{d}}{M^S}\n",
    "$$\n",
    "\n",
    "$$\n",
    "\\Delta r_m = \\xi (\\xi_1 - \\xi_2)\n",
    "$$\n",
    "\n",
    "\n",
    "$$\n",
    "\\xi_2 = \n",
    "\\begin{cases}\n",
    "1 \\text{ se } BLR < \\text{piso}\\\\\n",
    "0 \\,\\,\\,\\,\\,\\,\\, \\text{c.c.}\n",
    "\\end{cases}\n",
    "$$\n",
    "\n",
    "$$\n",
    "\\xi_1 = \n",
    "\\begin{cases}\n",
    "1 \\text{ se } BLR > \\text{teto}\\\\\n",
    "0 \\,\\,\\,\\,\\,\\,\\, \\text{c.c.}\n",
    "\\end{cases}\n",
    "$$\n",
    "\n",
    "$$\n",
    "rl = rm + \\overline{spread}\n",
    "$$\n",
    "\n",
    "$$\n",
    "Fb = rl_{-1}L - rm_{-1}M\n",
    "$$"
   ]
  },
  {
   "cell_type": "markdown",
   "metadata": {},
   "source": [
    "# Soluções analíticas"
   ]
  },
  {
   "cell_type": "markdown",
   "metadata": {},
   "source": [
    "# Simulações"
   ]
  },
  {
   "cell_type": "markdown",
   "metadata": {},
   "source": [
    "# Choques"
   ]
  },
  {
   "cell_type": "markdown",
   "metadata": {},
   "source": [
    "# Análise dos resultados"
   ]
  },
  {
   "cell_type": "code",
   "execution_count": null,
   "metadata": {},
   "outputs": [],
   "source": []
  }
 ],
 "metadata": {
  "kernelspec": {
   "display_name": "Python 3",
   "language": "python",
   "name": "python3"
  },
  "language_info": {
   "codemirror_mode": {
    "name": "ipython",
    "version": 3
   },
   "file_extension": ".py",
   "mimetype": "text/x-python",
   "name": "python",
   "nbconvert_exporter": "python",
   "pygments_lexer": "ipython3",
   "version": "3.7.2"
  }
 },
 "nbformat": 4,
 "nbformat_minor": 2
}
